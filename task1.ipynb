{
 "cells": [
  {
   "cell_type": "code",
   "execution_count": 3,
   "id": "35278279",
   "metadata": {},
   "outputs": [
    {
     "name": "stdout",
     "output_type": "stream",
     "text": [
      "select operations\n",
      "1.addition\n",
      "2.subtraction\n",
      "3.multiplication\n",
      "4.division\n",
      "5.remainder\n",
      "enter a choice: 1\n",
      "enter first number: 1\n",
      "enter second number: 1\n",
      "Given numbers are 1 and 1 and and its addition is 2\n",
      "None\n"
     ]
    }
   ],
   "source": [
    "from SUHEK import calsi1\n",
    "print(\"select operations\")\n",
    "print(\"1.addition\")\n",
    "print(\"2.subtraction\")\n",
    "print(\"3.multiplication\")\n",
    "print(\"4.division\")\n",
    "print(\"5.remainder\")\n",
    "choice=input(\"enter a choice: \")\n",
    "x=int(input(\"enter first number: \"))\n",
    "y=int(input(\"enter second number: \"))\n",
    "if choice=='1':\n",
    "    print(calsi1.add(x,y))\n",
    "elif choice=='2':\n",
    "    print(calsi1.sub(x,y))\n",
    "elif choice=='3':\n",
    "    print(calsi1.multiply(x,y))\n",
    "elif choice=='4':\n",
    "    print(calsi1.divide(x,y))\n",
    "elif choice=='5':\n",
    "    print(calsi1.remainder(x,y))\n",
    "else:\n",
    "    print(\"invalid choice\")\n",
    "              "
   ]
  },
  {
   "cell_type": "code",
   "execution_count": null,
   "id": "177efc27",
   "metadata": {},
   "outputs": [],
   "source": []
  }
 ],
 "metadata": {
  "kernelspec": {
   "display_name": "Python 3",
   "language": "python",
   "name": "python3"
  },
  "language_info": {
   "codemirror_mode": {
    "name": "ipython",
    "version": 3
   },
   "file_extension": ".py",
   "mimetype": "text/x-python",
   "name": "python",
   "nbconvert_exporter": "python",
   "pygments_lexer": "ipython3",
   "version": "3.9.5"
  }
 },
 "nbformat": 4,
 "nbformat_minor": 5
}
