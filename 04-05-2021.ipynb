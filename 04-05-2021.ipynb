{
 "cells": [
  {
   "cell_type": "code",
   "execution_count": 2,
   "id": "3cff0cd8",
   "metadata": {},
   "outputs": [
    {
     "name": "stdout",
     "output_type": "stream",
     "text": [
      "enter your namer\n",
      "enter mobile no9\n",
      "{'r': 9}\n"
     ]
    }
   ],
   "source": [
    "k=input(\"enter your name\")\n",
    "n=int(input(\"enter mobile no\"))\n",
    "m={}\n",
    "m[k]=n\n",
    "print(m)"
   ]
  },
  {
   "cell_type": "code",
   "execution_count": 3,
   "id": "217cbc3b",
   "metadata": {},
   "outputs": [
    {
     "name": "stdout",
     "output_type": "stream",
     "text": [
      "enter your namer\n",
      "enter mobile no9\n",
      "enter your namei\n",
      "enter mobile no9\n",
      "{'r': 9, 'i': 9}\n"
     ]
    }
   ],
   "source": [
    "m={}\n",
    "for j in range(2):\n",
    "    k=input(\"enter your name\")\n",
    "    n=int(input(\"enter mobile no\"))\n",
    "    m[k]=n\n",
    "print(m)    "
   ]
  },
  {
   "cell_type": "code",
   "execution_count": 4,
   "id": "baeff893",
   "metadata": {},
   "outputs": [
    {
     "ename": "NameError",
     "evalue": "name 'p' is not defined",
     "output_type": "error",
     "traceback": [
      "\u001b[1;31m---------------------------------------------------------------------------\u001b[0m",
      "\u001b[1;31mNameError\u001b[0m                                 Traceback (most recent call last)",
      "\u001b[1;32m<ipython-input-4-c2f32012f879>\u001b[0m in \u001b[0;36m<module>\u001b[1;34m\u001b[0m\n\u001b[0;32m      1\u001b[0m \u001b[0mm\u001b[0m\u001b[1;33m=\u001b[0m\u001b[1;33m{\u001b[0m\u001b[1;33m}\u001b[0m\u001b[1;33m\u001b[0m\u001b[1;33m\u001b[0m\u001b[0m\n\u001b[1;32m----> 2\u001b[1;33m \u001b[1;32mwhile\u001b[0m \u001b[0mp\u001b[0m\u001b[1;33m!=\u001b[0m\u001b[1;36m0\u001b[0m\u001b[1;33m:\u001b[0m\u001b[1;33m\u001b[0m\u001b[1;33m\u001b[0m\u001b[0m\n\u001b[0m\u001b[0;32m      3\u001b[0m     \u001b[0mk\u001b[0m\u001b[1;33m=\u001b[0m\u001b[0minput\u001b[0m\u001b[1;33m(\u001b[0m\u001b[1;34m\"enter your name\"\u001b[0m\u001b[1;33m)\u001b[0m\u001b[1;33m\u001b[0m\u001b[1;33m\u001b[0m\u001b[0m\n\u001b[0;32m      4\u001b[0m     \u001b[0mn\u001b[0m\u001b[1;33m=\u001b[0m\u001b[0mint\u001b[0m\u001b[1;33m(\u001b[0m\u001b[0minput\u001b[0m\u001b[1;33m(\u001b[0m\u001b[1;34m\"enter mobile no\"\u001b[0m\u001b[1;33m)\u001b[0m\u001b[1;33m)\u001b[0m\u001b[1;33m\u001b[0m\u001b[1;33m\u001b[0m\u001b[0m\n\u001b[0;32m      5\u001b[0m     \u001b[0mm\u001b[0m\u001b[1;33m[\u001b[0m\u001b[0mk\u001b[0m\u001b[1;33m]\u001b[0m\u001b[1;33m=\u001b[0m\u001b[0mn\u001b[0m\u001b[1;33m\u001b[0m\u001b[1;33m\u001b[0m\u001b[0m\n",
      "\u001b[1;31mNameError\u001b[0m: name 'p' is not defined"
     ]
    }
   ],
   "source": [
    "m={}\n",
    "while p!=0:\n",
    "    k=input(\"enter your name\")\n",
    "    n=int(input(\"enter mobile no\"))\n",
    "    m[k]=n\n",
    "print(m)    "
   ]
  },
  {
   "cell_type": "markdown",
   "id": "0337b0f6",
   "metadata": {},
   "source": [
    "# Functions:\n",
    "       - To perform a specific task\n",
    "       - Reusability of code\n",
    "       - number of lines can be decreased\n",
    "       - predefined functions,user defined functions"
   ]
  },
  {
   "cell_type": "markdown",
   "id": "4714f4c1",
   "metadata": {},
   "source": [
    "## Predefined Functions\n",
    "         - Already work has been allocated for it\n",
    "         - print(),range(),int(),str(),max()"
   ]
  },
  {
   "cell_type": "markdown",
   "id": "0f0c0508",
   "metadata": {},
   "source": [
    "## User defined functions\n",
    "     - we need to allocate work for a function\n",
    "     - syntax:\n",
    "              def function_name(arguments):\n",
    "                    //stmts\n",
    "                    return return_value"
   ]
  },
  {
   "cell_type": "markdown",
   "id": "e54a4930",
   "metadata": {},
   "source": [
    "## Types of funtions:\n",
    "       - with return type and with arguments\n",
    "       - with return type and without arguments\n",
    "       - without return type and with arguments\n",
    "       - without return type and without arguments"
   ]
  },
  {
   "cell_type": "code",
   "execution_count": 11,
   "id": "4be4ab53",
   "metadata": {},
   "outputs": [
    {
     "name": "stdout",
     "output_type": "stream",
     "text": [
      "90\n",
      "1 2 3 4 5 6 7 8 9 10 11 12 13 14 15 16 17 18 19 20 21 22 23 24 25 26 27 28 29 30 31 32 33 34 35 36 37 38 39 40 41 42 43 44 45 46 47 48 49 50 51 52 53 54 55 56 57 58 59 60 61 62 63 64 65 66 67 68 69 70 71 72 73 74 75 76 77 78 79 80 81 82 83 84 85 86 87 88 89 90 "
     ]
    }
   ],
   "source": [
    "# with return type and with arguments\n",
    "# reading-main\n",
    "# printing-main\n",
    "# logic-function\n",
    "def printnumbers(k):\n",
    "    j=[]\n",
    "    for b in range(1,k+1):\n",
    "        j.append(b)\n",
    "    return j\n",
    "\n",
    "\n",
    "\n",
    "n=int(input())\n",
    "for z in range(1,len(printnumbers(n))+1):\n",
    "    print(z,end=\" \")\n",
    "    \n"
   ]
  },
  {
   "cell_type": "code",
   "execution_count": 13,
   "id": "70d8cf5d",
   "metadata": {},
   "outputs": [
    {
     "name": "stdout",
     "output_type": "stream",
     "text": [
      "20\n",
      "2 4 6 8 10 12 14 16 18 20 "
     ]
    }
   ],
   "source": [
    "# with return type and without arguments\n",
    "# reading-function\n",
    "# printing-main\n",
    "# logic-function\n",
    "def evennumbers():\n",
    "    k=int(input())\n",
    "    c=[]\n",
    "    for b in range(1,k+1):\n",
    "        if b%2==0:\n",
    "            c.append(b)\n",
    "    return c\n",
    "\n",
    "for z in evennumbers():\n",
    "               print(z,end=\" \")"
   ]
  },
  {
   "cell_type": "code",
   "execution_count": 14,
   "id": "8c7c5699",
   "metadata": {},
   "outputs": [
    {
     "name": "stdout",
     "output_type": "stream",
     "text": [
      "10\n",
      "1 3 5 7 9 "
     ]
    }
   ],
   "source": [
    "# without return type and with arguments\n",
    "# reading-main\n",
    "# printing-function\n",
    "# logic-function\n",
    "def oddnumbers(m):\n",
    "    for i in range(1,m+1):\n",
    "        if i%2!=0:\n",
    "            print(i,end=\" \")\n",
    "    return\n",
    "\n",
    "b=int(input())\n",
    "oddnumbers(b)"
   ]
  },
  {
   "cell_type": "code",
   "execution_count": 15,
   "id": "869ebe55",
   "metadata": {},
   "outputs": [
    {
     "name": "stdout",
     "output_type": "stream",
     "text": [
      "20\n",
      "100\n",
      "20\n",
      "20 40 60 80 "
     ]
    }
   ],
   "source": [
    "# without return type and without arguments\n",
    "# reading-function\n",
    "# printing-function\n",
    "# logic-function\n",
    "def skippingvalues():\n",
    "    n=int(input())\n",
    "    m=int(input())\n",
    "    s=int(input())\n",
    "    for j in range(n,m,s):\n",
    "        print(j,end=\" \")\n",
    "    return\n",
    "skippingvalues()"
   ]
  },
  {
   "cell_type": "code",
   "execution_count": 21,
   "id": "57f7d9e7",
   "metadata": {},
   "outputs": [
    {
     "ename": "SyntaxError",
     "evalue": "invalid syntax (<ipython-input-21-4e5d5bd33dae>, line 2)",
     "output_type": "error",
     "traceback": [
      "\u001b[1;36m  File \u001b[1;32m\"<ipython-input-21-4e5d5bd33dae>\"\u001b[1;36m, line \u001b[1;32m2\u001b[0m\n\u001b[1;33m    output:\u001b[0m\n\u001b[1;37m           ^\u001b[0m\n\u001b[1;31mSyntaxError\u001b[0m\u001b[1;31m:\u001b[0m invalid syntax\n"
     ]
    }
   ],
   "source": [
    "Input:456789321\n",
    "output:\n",
    "    Given numbers is:456789321\n",
    "    even numbers are:4 6 8 9\n",
    "    odd numbers are: 3 2 1 7\n",
    "    Left half of even numbers:\n",
    "    right half of even numbers:    \n",
    "    LEft half of even number sum is:10\n",
    "    Right half of even number sum is:20    "
   ]
  },
  {
   "cell_type": "code",
   "execution_count": 18,
   "id": "54e37f5b",
   "metadata": {},
   "outputs": [
    {
     "name": "stdout",
     "output_type": "stream",
     "text": [
      "Enter the number: 2345\n",
      "Given number is odd\n"
     ]
    }
   ],
   "source": [
    "def find(num):\n",
    "    # code logic here\n",
    "    if num%2 == 0:\n",
    "        numtype=\"even\"\n",
    "    else:\n",
    "        numtype = \"odd\"\n",
    "    return numtype\n",
    "\n",
    "num = int(input('Enter the number: '))  # 1. take your input\n",
    "numtype = find(num)                # 2. call the find function\n",
    "print('Given number is',numtype)      # 3. print if the number is even or odd\n"
   ]
  },
  {
   "cell_type": "code",
   "execution_count": 20,
   "id": "2ed35a62",
   "metadata": {},
   "outputs": [
    {
     "name": "stdout",
     "output_type": "stream",
     "text": [
      "12345\n",
      "given number:  12345\n",
      "even numbers are:  ['1', '3', '5']\n",
      "odd numbers are:  ['2', '4']\n"
     ]
    }
   ],
   "source": [
    "def oe(n):\n",
    "    o=[]\n",
    "    e=[]\n",
    "    for i in n:\n",
    "        if int(i)%2==0:\n",
    "            o.append(i)\n",
    "        else:\n",
    "            e.append(i)\n",
    "    print(\"given number: \",n)\n",
    "    print(\"even numbers are: \",e)\n",
    "    print(\"odd numbers are: \",o)\n",
    "n=input()\n",
    "oe(n)"
   ]
  },
  {
   "cell_type": "markdown",
   "id": "dd03fa3b",
   "metadata": {},
   "source": [
    "## Arguments Types:\n",
    "      - Required arguments or Positional arguments\n",
    "      - Default arguments\n",
    "      - keyword arguments\n",
    "      - variable length arguments"
   ]
  },
  {
   "cell_type": "code",
   "execution_count": 23,
   "id": "f623e268",
   "metadata": {},
   "outputs": [
    {
     "name": "stdout",
     "output_type": "stream",
     "text": [
      "enter a name: roja\n",
      "enter your age: 90\n",
      "Your name is: roja\n",
      "Your age is: 90\n"
     ]
    }
   ],
   "source": [
    "# required arguments\n",
    "def student(a,n):\n",
    "    print(\"Your name is: {}\\nYour age is: {}\".format(a,n))\n",
    "    return\n",
    "\n",
    "name=input(\"enter a name: \")\n",
    "age=int(input(\"enter your age: \"))\n",
    "student(name,age)"
   ]
  },
  {
   "cell_type": "code",
   "execution_count": 41,
   "id": "d7696879",
   "metadata": {},
   "outputs": [
    {
     "name": "stdout",
     "output_type": "stream",
     "text": [
      "Enter employee name: raju\n",
      "Enter employee age: 34\n",
      "Employee name is: raju\n",
      "Employee age is: 34\n",
      "Employee salary is: 9000\n"
     ]
    }
   ],
   "source": [
    "# default arguments\n",
    "def employee(k,p,s=9000):\n",
    "    print(\"Employee name is: {}\\nEmployee age is: {}\\nEmployee salary is: {}\".format(k,p,s))\n",
    "    return\n",
    "n=input(\"Enter employee name: \")\n",
    "m=int(input(\"Enter employee age: \"))\n",
    "employee(n,m)"
   ]
  },
  {
   "cell_type": "code",
   "execution_count": 39,
   "id": "d14251b8",
   "metadata": {},
   "outputs": [
    {
     "name": "stdout",
     "output_type": "stream",
     "text": [
      "Enter your collegename: raju\n",
      "Enter your year: 9\n",
      "your collegename is: raju\n",
      "your year is: 9\n"
     ]
    }
   ],
   "source": [
    "# keyword argument\n",
    "def college(cname,year):\n",
    "    print(\"your collegename is: {}\\nyour year is: {}\".format(cname,year))\n",
    "    return\n",
    "\n",
    "# cname=input(\"Enter your collegename: \")\n",
    "# year=int(input(\"Enter your year: \"))\n",
    "college(cname=input(\"Enter your collegename: \"),year=int(input(\"Enter your year: \")))"
   ]
  },
  {
   "cell_type": "code",
   "execution_count": 46,
   "id": "ebf17edb",
   "metadata": {},
   "outputs": [
    {
     "name": "stdout",
     "output_type": "stream",
     "text": [
      "7\n",
      "9 9 9 9 9 9 9 \n",
      "7 <class 'int'>\n",
      "(['9', '9', '9', '9', '9', '9', '9'],) <class 'tuple'>\n"
     ]
    }
   ],
   "source": [
    "# variable length arguments:\n",
    "def number(y,*p):\n",
    "    print(y,type(y))\n",
    "    print(p,type(p))\n",
    "    return\n",
    "b=int(input())\n",
    "k=input().split()\n",
    "number(b,k)"
   ]
  },
  {
   "cell_type": "code",
   "execution_count": 48,
   "id": "d6ee3b70",
   "metadata": {},
   "outputs": [
    {
     "name": "stdout",
     "output_type": "stream",
     "text": [
      "4\n",
      "5\n",
      "6\n",
      "4 <class 'int'>\n",
      "('5', '6') <class 'tuple'>\n",
      "11\n"
     ]
    }
   ],
   "source": [
    "def number(y,*p):\n",
    "    print(y,type(y))\n",
    "    print(p,type(p))\n",
    "    b=[]\n",
    "    for i in p:\n",
    "        b.append(int(i))\n",
    "    print(sum(b))\n",
    "    return\n",
    "b=int(input())\n",
    "k=input()\n",
    "g=input()\n",
    "number(b,k,g)"
   ]
  },
  {
   "cell_type": "code",
   "execution_count": 49,
   "id": "153043e5",
   "metadata": {},
   "outputs": [
    {
     "name": "stdout",
     "output_type": "stream",
     "text": [
      "ramu\n",
      "999999999\n",
      "99\n",
      "999999\n",
      "{'ramu': (999999999, 99, 999999)}\n"
     ]
    }
   ],
   "source": [
    "c={}\n",
    "def contact(name,*t):\n",
    "    c[name]=t\n",
    "    return c\n",
    "name=input()\n",
    "mobile=int(input())\n",
    "age=int(input())\n",
    "sal=int(input())\n",
    "contact(name,mobile,age,sal)\n",
    "print(c)"
   ]
  },
  {
   "cell_type": "code",
   "execution_count": null,
   "id": "d79a8e04",
   "metadata": {},
   "outputs": [],
   "source": []
  }
 ],
 "metadata": {
  "kernelspec": {
   "display_name": "Python 3",
   "language": "python",
   "name": "python3"
  },
  "language_info": {
   "codemirror_mode": {
    "name": "ipython",
    "version": 3
   },
   "file_extension": ".py",
   "mimetype": "text/x-python",
   "name": "python",
   "nbconvert_exporter": "python",
   "pygments_lexer": "ipython3",
   "version": "3.9.5"
  }
 },
 "nbformat": 4,
 "nbformat_minor": 5
}
