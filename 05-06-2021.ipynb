{
 "cells": [
  {
   "cell_type": "markdown",
   "id": "fc1c9bb9",
   "metadata": {},
   "source": [
    "# Files,Packages and Modules"
   ]
  },
  {
   "cell_type": "markdown",
   "id": "1fe1a931",
   "metadata": {},
   "source": [
    "# Files:\n",
    "     - To store value or data in permananetly\n",
    "     - File foramts .py,.text,.java,.csv\n",
    "     - 3 modes\n",
    "        = Read->r->if file doesnot exists it displays an error.if file exists it reads data in a file\n",
    "        = Write->w->if file doesnot exists it creates a file with user defined name filename.If file exists it writes to file.Previous data will be erased and new data will be added\n",
    "        = Append->q->if file doesnot exists it creates a file with user defined name filename.If file exists it writes to file.It will add new data for existing ones\n",
    "        = Execute->x->If the file is not exist with file name then it crates a file with user defined filename"
   ]
  },
  {
   "cell_type": "code",
   "execution_count": 2,
   "id": "b5a1024c",
   "metadata": {},
   "outputs": [],
   "source": [
    "with open('Rawdata/sample.text','w') as ft:\n",
    "    ft.write(\"hello good evening\")\n",
    "    "
   ]
  },
  {
   "cell_type": "code",
   "execution_count": 3,
   "id": "85169f73",
   "metadata": {},
   "outputs": [
    {
     "name": "stdout",
     "output_type": "stream",
     "text": [
      "hello good evening\n"
     ]
    }
   ],
   "source": [
    "with open('Rawdata/sample.text','r') as fr:\n",
    "    print(fr.read())"
   ]
  },
  {
   "cell_type": "code",
   "execution_count": 4,
   "id": "5b16338f",
   "metadata": {},
   "outputs": [],
   "source": [
    "with open('Rawdata/sample.text','a') as fa:\n",
    "    fa.write(\"\\nWelcome to APSSDC programs\")"
   ]
  },
  {
   "cell_type": "code",
   "execution_count": 5,
   "id": "65fa61a4",
   "metadata": {},
   "outputs": [],
   "source": [
    "with open('Rawdata/demo.text','a') as d:\n",
    "    d.write(\"\\nHi welcome\")"
   ]
  },
  {
   "cell_type": "code",
   "execution_count": 6,
   "id": "3fa44042",
   "metadata": {},
   "outputs": [],
   "source": [
    "with open('Rawdata/sample2.text','x') as f:\n",
    "    with open('Rawdata/sample2.text','w') as g:\n",
    "        g.write(\"welcome ramu\")\n",
    "    "
   ]
  },
  {
   "cell_type": "code",
   "execution_count": 8,
   "id": "17950b46",
   "metadata": {},
   "outputs": [
    {
     "name": "stdout",
     "output_type": "stream",
     "text": [
      "enter a range: 2\n",
      "enter a name: ramu\n",
      "enter a name: somu\n"
     ]
    }
   ],
   "source": [
    "with open('Rawdata/Names.csv','w') as y:\n",
    "    n=int(input(\"enter a range: \"))\n",
    "    for j in range(1,n+1):\n",
    "        m=input(\"enter a name: \")\n",
    "        y.write(m+\"\\n\")\n",
    "    "
   ]
  },
  {
   "cell_type": "code",
   "execution_count": 9,
   "id": "b55b2fd9",
   "metadata": {},
   "outputs": [
    {
     "name": "stdout",
     "output_type": "stream",
     "text": [
      "['_CHUNK_SIZE', '__class__', '__del__', '__delattr__', '__dict__', '__dir__', '__doc__', '__enter__', '__eq__', '__exit__', '__format__', '__ge__', '__getattribute__', '__gt__', '__hash__', '__init__', '__init_subclass__', '__iter__', '__le__', '__lt__', '__ne__', '__new__', '__next__', '__reduce__', '__reduce_ex__', '__repr__', '__setattr__', '__sizeof__', '__str__', '__subclasshook__', '_checkClosed', '_checkReadable', '_checkSeekable', '_checkWritable', '_finalizing', 'buffer', 'close', 'closed', 'detach', 'encoding', 'errors', 'fileno', 'flush', 'isatty', 'line_buffering', 'mode', 'name', 'newlines', 'read', 'readable', 'readline', 'readlines', 'reconfigure', 'seek', 'seekable', 'tell', 'truncate', 'writable', 'write', 'write_through', 'writelines']\n"
     ]
    }
   ],
   "source": [
    "print(dir(y))"
   ]
  },
  {
   "cell_type": "code",
   "execution_count": 10,
   "id": "5ef05a10",
   "metadata": {},
   "outputs": [
    {
     "name": "stdout",
     "output_type": "stream",
     "text": [
      "['ramu', 'somu']\n"
     ]
    }
   ],
   "source": [
    "with open('Rawdata/Names.csv','r') as k:\n",
    "    s=k.readlines()\n",
    "    q=[]\n",
    "    for v in s:\n",
    "        q.append(v.split('\\n')[0])\n",
    "    print(q)    "
   ]
  },
  {
   "cell_type": "code",
   "execution_count": 11,
   "id": "1ff6757f",
   "metadata": {},
   "outputs": [
    {
     "name": "stdout",
     "output_type": "stream",
     "text": [
      "enter a range: 10\n"
     ]
    }
   ],
   "source": [
    "with open('Rawdata\\input.text','w') as fw:\n",
    "    fw.write(input(\"enter a range: \"))"
   ]
  },
  {
   "cell_type": "code",
   "execution_count": 12,
   "id": "f967d7c8",
   "metadata": {},
   "outputs": [],
   "source": [
    "with open('Rawdata\\input.text','r') as g:\n",
    "    f=g.readlines()\n",
    "    with open('Rawdata\\input.text','w') as wy:\n",
    "        wy.write(\"Entered number is:{}\\n\".format(f[0]))\n",
    "        x=[]\n",
    "        for n in range(1,int(f[0])+1):\n",
    "            if n%2==0:\n",
    "                h=str(n)+\",\"\n",
    "                x.append(h)\n",
    "        t=\" \".join(x)\n",
    "        wy.write(\"Even numbers in range {} is: {}\".format(f[0],t))"
   ]
  },
  {
   "cell_type": "code",
   "execution_count": 13,
   "id": "5c49aa63",
   "metadata": {},
   "outputs": [
    {
     "ename": "SyntaxError",
     "evalue": "invalid syntax (<ipython-input-13-ee5cfdbe7373>, line 1)",
     "output_type": "error",
     "traceback": [
      "\u001b[1;36m  File \u001b[1;32m\"<ipython-input-13-ee5cfdbe7373>\"\u001b[1;36m, line \u001b[1;32m1\u001b[0m\n\u001b[1;33m    Task:\u001b[0m\n\u001b[1;37m         ^\u001b[0m\n\u001b[1;31mSyntaxError\u001b[0m\u001b[1;31m:\u001b[0m invalid syntax\n"
     ]
    }
   ],
   "source": [
    "Task:\n",
    "    sheet->\n",
    "    field->name,time in session(minutes)\n",
    "    roll-name-collegecode\n",
    "    19kq1a0526-gayathri-pace=>100\n",
    "    tarun\n",
    "    roll=>19kq1a0526\n",
    "    \n",
    "    output.csv\n",
    "    roll                 time\n",
    "    19kq1a0526            100\n",
    "    \n",
    "    notconsidered.csv\n",
    "    roll              time\n",
    "    \n",
    "    final.csv:[70]\n",
    "        roll     time     status\n",
    "        ------    120       p\n",
    "        ------    22        a"
   ]
  },
  {
   "cell_type": "code",
   "execution_count": 14,
   "id": "ee144e4d",
   "metadata": {},
   "outputs": [
    {
     "name": "stdout",
     "output_type": "stream",
     "text": [
      "19kq1a0522\n"
     ]
    }
   ],
   "source": [
    "n=['19kq1a0522-karishma-pace']\n",
    "d=n[0].split(\"-\")[0]\n",
    "print(d)"
   ]
  },
  {
   "cell_type": "code",
   "execution_count": null,
   "id": "fa43a41e",
   "metadata": {},
   "outputs": [],
   "source": []
  }
 ],
 "metadata": {
  "kernelspec": {
   "display_name": "Python 3",
   "language": "python",
   "name": "python3"
  },
  "language_info": {
   "codemirror_mode": {
    "name": "ipython",
    "version": 3
   },
   "file_extension": ".py",
   "mimetype": "text/x-python",
   "name": "python",
   "nbconvert_exporter": "python",
   "pygments_lexer": "ipython3",
   "version": "3.9.5"
  }
 },
 "nbformat": 4,
 "nbformat_minor": 5
}
