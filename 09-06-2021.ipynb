{
 "cells": [
  {
   "cell_type": "markdown",
   "id": "3c3abf20",
   "metadata": {},
   "source": [
    "### Django:\n",
    "     - it is a external module in python,so that we have to install this\n",
    "     - it is a web development framework coded in python\n",
    "     - while developing this django they followed a adesign pattern MVT\n",
    "### MVC:\n",
    "     M-Model\n",
    "        - it will store logics related to database\n",
    "     V-View\n",
    "         - it will store information related to UI(user interface)\n",
    "     C-Controller\n",
    "         - it will controls the both files\n",
    "### MVT:\n",
    "      M-Model\n",
    "        - it will store logics related database\n",
    "      v-View\n",
    "         - it will works like a controller\n",
    "       T-Template\n",
    "         - it will store related to ui(user interface)\n",
    "### required software:\n",
    "         - install django\n",
    "             - to install django you have to run a command in command prompt i.e. \"pip install django\" or \"pip install django==versionofDJ\n",
    "         - install any tool(sublime,atom,pycharm,notepad++,visual studio,geany)\n",
    "###  Project creation:\n",
    "      - we have to choose project location\n",
    "      - we have to open cmd from that project location\n",
    "      - to create a project we have to run command i.e. \"django-admin startproject projectname\"\n",
    "      -ex:django-admin startproject projectname(Firstproject)\n",
    "### Run project:\n",
    "        - we have to open cmd from inside that project location then you run a cmd to run your project server \"python manage.py run server\""
   ]
  },
  {
   "cell_type": "markdown",
   "id": "97137c23",
   "metadata": {},
   "source": []
  }
 ],
 "metadata": {
  "kernelspec": {
   "display_name": "Python 3",
   "language": "python",
   "name": "python3"
  },
  "language_info": {
   "codemirror_mode": {
    "name": "ipython",
    "version": 3
   },
   "file_extension": ".py",
   "mimetype": "text/x-python",
   "name": "python",
   "nbconvert_exporter": "python",
   "pygments_lexer": "ipython3",
   "version": "3.7.5"
  }
 },
 "nbformat": 4,
 "nbformat_minor": 5
}
