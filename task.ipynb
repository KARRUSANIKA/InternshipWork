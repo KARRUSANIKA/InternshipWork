{
 "cells": [
  {
   "cell_type": "code",
   "execution_count": 7,
   "id": "4e6a7a9f",
   "metadata": {},
   "outputs": [
    {
     "ename": "SyntaxError",
     "evalue": "invalid syntax (<ipython-input-7-bd5ac91e2a5f>, line 15)",
     "output_type": "error",
     "traceback": [
      "\u001b[1;36m  File \u001b[1;32m\"<ipython-input-7-bd5ac91e2a5f>\"\u001b[1;36m, line \u001b[1;32m15\u001b[0m\n\u001b[1;33m    elif choice==3:\u001b[0m\n\u001b[1;37m    ^\u001b[0m\n\u001b[1;31mSyntaxError\u001b[0m\u001b[1;31m:\u001b[0m invalid syntax\n"
     ]
    }
   ],
   "source": [
    "from KARISHMA import calsi\n",
    "print(\"select operation\")\n",
    "print(\"1.addition\")\n",
    "print(\"2.subtraction\")\n",
    "print(\"3.multiplication\")\n",
    "print(\"4.division\")\n",
    "print(\"5.remainder\")\n",
    "choice=input(\"enter your choice(1/2/3/4/5): \")\n",
    "x=int(input(\"enter first number: \"))\n",
    "y=int(input(\"enter second number: \"))\n",
    "if choice== '1':\n",
    "           print(\"Given numbers are {} and {} and its addition is {}\".format(add(x,y,result)))\n",
    "elif choice=='2':\n",
    "           print(\"Given numbers are {} and {} and its subtraction is {}\".format(sub(x,y,result))\n",
    "elif choice=='3':\n",
    "                 print(\"Given numbers are {} and {} and its subtraction is {}\".format(multiply(x,y,result))\n",
    "elif choice=='4'\n",
    "                 \n",
    "              "
   ]
  },
  {
   "cell_type": "code",
   "execution_count": null,
   "id": "4302b18c",
   "metadata": {},
   "outputs": [],
   "source": []
  }
 ],
 "metadata": {
  "kernelspec": {
   "display_name": "Python 3",
   "language": "python",
   "name": "python3"
  },
  "language_info": {
   "codemirror_mode": {
    "name": "ipython",
    "version": 3
   },
   "file_extension": ".py",
   "mimetype": "text/x-python",
   "name": "python",
   "nbconvert_exporter": "python",
   "pygments_lexer": "ipython3",
   "version": "3.9.5"
  }
 },
 "nbformat": 4,
 "nbformat_minor": 5
}
