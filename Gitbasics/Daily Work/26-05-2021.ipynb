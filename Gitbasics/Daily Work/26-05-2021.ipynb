{
 "cells": [
  {
   "cell_type": "markdown",
   "id": "8fa2faa4",
   "metadata": {},
   "source": [
    "### Hi Welcome👍😊"
   ]
  },
  {
   "cell_type": "markdown",
   "id": "6db3f7fa",
   "metadata": {},
   "source": [
    "## Output:\n",
    "    - %\n",
    "    - , +\n",
    "    - .format"
   ]
  },
  {
   "cell_type": "code",
   "execution_count": 2,
   "id": "fdbad9db",
   "metadata": {},
   "outputs": [
    {
     "name": "stdout",
     "output_type": "stream",
     "text": [
      "Enter a value: 12\n",
      "Enter a name: rajesh\n",
      "Entered number is: 12\n",
      "Entered Name is: rajesh\n"
     ]
    }
   ],
   "source": [
    "n= int(input(\"Enter a value: \"))\n",
    "m = input(\"Enter a name: \")\n",
    "print(\"Entered number is: %d\"%n)\n",
    "print(\"Entered Name is: %s\"%m)"
   ]
  },
  {
   "cell_type": "code",
   "execution_count": 3,
   "id": "1808df97",
   "metadata": {},
   "outputs": [
    {
     "name": "stdout",
     "output_type": "stream",
     "text": [
      "Entered Number is: 12 and Entered Name is: rajesh\n"
     ]
    }
   ],
   "source": [
    "print(\"Entered Number is: %d and Entered Name is: %s\"%(n,m))"
   ]
  },
  {
   "cell_type": "code",
   "execution_count": 4,
   "id": "087db775",
   "metadata": {},
   "outputs": [
    {
     "name": "stdout",
     "output_type": "stream",
     "text": [
      "Entered number is: 12 and Entered name is: rajesh \n"
     ]
    }
   ],
   "source": [
    "print(\"Entered number is: {} and Entered name is: {} \".format(n,m))"
   ]
  },
  {
   "cell_type": "code",
   "execution_count": 5,
   "id": "3a248524",
   "metadata": {},
   "outputs": [
    {
     "name": "stdout",
     "output_type": "stream",
     "text": [
      "Entered number is: 12 and Entered name is: rajesh \n"
     ]
    }
   ],
   "source": [
    "print(\"Entered number is: {0} and Entered name is: {1} \".format(n,m))"
   ]
  },
  {
   "cell_type": "code",
   "execution_count": 7,
   "id": "19ec6170",
   "metadata": {},
   "outputs": [
    {
     "name": "stdout",
     "output_type": "stream",
     "text": [
      "Entered name is: rajesh and Entered number is: 12 \n"
     ]
    }
   ],
   "source": [
    "print(\"Entered name is: {1} and Entered number is: {0} \".format(n,m))"
   ]
  },
  {
   "cell_type": "markdown",
   "id": "b222b34f",
   "metadata": {},
   "source": [
    "## Operators:\n",
    "     - Arithmetic -> +,-,*,/,%,floor(// -> Exact integer),exponential(** -> pow())\n",
    "     - Logical -> And,Or,Not\n",
    "     - Bitwise -> &&,||,>>,<<\n",
    "     - Relational -> ==,!=,>=,<=,>,<\n",
    "     - Assignment -> +=,-=,*=,/=,%=\n",
    "     - Membership -> in,not in\n",
    "     - Identity -> is,is not"
   ]
  },
  {
   "cell_type": "code",
   "execution_count": 8,
   "id": "ebeb904d",
   "metadata": {},
   "outputs": [
    {
     "name": "stdout",
     "output_type": "stream",
     "text": [
      "5\n"
     ]
    }
   ],
   "source": [
    "a = 20\n",
    "print(a>>2)"
   ]
  },
  {
   "cell_type": "markdown",
   "id": "ceeeea17",
   "metadata": {},
   "source": [
    "## Conditional Statements:\n",
    "     - To check whether a given condition is either True or False\n",
    "     - if,nested if,if-else,elif ladder"
   ]
  },
  {
   "cell_type": "markdown",
   "id": "9b57fb72",
   "metadata": {},
   "source": [
    "## if -> Single Case[T or F]\n",
    "      syntax:\n",
    "        if(condition):\n",
    "        //stmt\n",
    "      "
   ]
  },
  {
   "cell_type": "code",
   "execution_count": 9,
   "id": "f378f06f",
   "metadata": {},
   "outputs": [
    {
     "name": "stdout",
     "output_type": "stream",
     "text": [
      "45\n",
      "Enter Value is: 45\n"
     ]
    }
   ],
   "source": [
    "n = int(input())\n",
    "if n== 45:\n",
    "    print(\"Enter Value is: {}\".format(n))"
   ]
  },
  {
   "cell_type": "markdown",
   "id": "9df66fab",
   "metadata": {},
   "source": [
    "## If-else -> Two Cases[T or F]\n",
    "    syntax:\n",
    "    if(condition-1):\n",
    "       //true statement\n",
    "    else:\n",
    "        //false statement"
   ]
  },
  {
   "cell_type": "code",
   "execution_count": 10,
   "id": "56407377",
   "metadata": {},
   "outputs": [
    {
     "name": "stdout",
     "output_type": "stream",
     "text": [
      "12\n",
      "26\n",
      "Entered values 12 is not equal to 26\n"
     ]
    }
   ],
   "source": [
    "k=int(input())\n",
    "m=int(input())\n",
    "if k==m:\n",
    "    print(\"Entered values {} and {} are Equal\".format(k,m))\n",
    "else:\n",
    "        print(\"Entered values {} is not equal to {}\".format(k,m))"
   ]
  },
  {
   "cell_type": "markdown",
   "id": "ea3c71ba",
   "metadata": {},
   "source": [
    "## Nested if [if within an if] -> one or more cases\n",
    "     syntax:\n",
    "        if(condition-1):\n",
    "          if(condition-2):\n",
    "              //stmt-1\n",
    "              \n",
    "         if(condition-1):\n",
    "           if(condition-2):\n",
    "              //stmt-1\n",
    "            else:\n",
    "              //stmt-2\n",
    "          else:\n",
    "             //stmt-3\n"
   ]
  },
  {
   "cell_type": "code",
   "execution_count": 11,
   "id": "3e68228e",
   "metadata": {},
   "outputs": [
    {
     "name": "stdout",
     "output_type": "stream",
     "text": [
      "100\n",
      "Entered value is equal to 100\n"
     ]
    }
   ],
   "source": [
    "n = int(input())\n",
    "if(n<=200):\n",
    "    if(n==100):\n",
    "        print(\"Entered value is equal to 100\".format(n))\n",
    "    else:\n",
    "        print(\"Entered value is  not equal to 100 but it is lower than 100\".format(n))\n",
    "else:\n",
    "    print(\"Entered value {} is greater than 200\".format(n))\n",
    "\n"
   ]
  },
  {
   "cell_type": "markdown",
   "id": "14cbf726",
   "metadata": {},
   "source": [
    "## Elif -> Two or more cases\n",
    "    syntax:\n",
    "        if(condition-1):\n",
    "            //stmt-1\n",
    "         elif(condition-2):\n",
    "             //stmt-2\n",
    "          elif(condition-n):\n",
    "              //stmt-n\n",
    "              ||||||\n",
    "           else:\n",
    "              //stmt-(n+1)"
   ]
  },
  {
   "cell_type": "code",
   "execution_count": 14,
   "id": "b9af80fc",
   "metadata": {},
   "outputs": [
    {
     "name": "stdout",
     "output_type": "stream",
     "text": [
      "12\n",
      "Entered value 12 is divisible by 4 \n"
     ]
    }
   ],
   "source": [
    "h = int(input())\n",
    "if h%4==0:\n",
    "    print(\"Entered value {} is divisible by 4 \".format(h))\n",
    "elif h%2==0 and h%4==0:\n",
    "    print(\"Entered value {} is divisible by 2 and 4 \".format(h))\n",
    "elif h%2==0:\n",
    "    print(\"Entered value {} is divisible by 2 \".format(h))\n",
    "else:\n",
    "    print(\"Entered value {} is  not divisible by 2 \".format(h))\n",
    "\n"
   ]
  },
  {
   "cell_type": "markdown",
   "id": "658a36ab",
   "metadata": {},
   "source": [
    "# Control Statements,Iterations,Loops,Repitition\n",
    "     - To control the flow of execution\n",
    "     - For,while"
   ]
  },
  {
   "cell_type": "markdown",
   "id": "b7046b47",
   "metadata": {},
   "source": [
    "## For -> For particular Range => [Know Ranges]\n",
    "     syntax\n",
    "         for iteration_variable in Iterator:\n",
    "             //stmts\n",
    "         for iteration_variable in range():\n",
    "              //stmts"
   ]
  },
  {
   "cell_type": "markdown",
   "id": "0034804d",
   "metadata": {},
   "source": [
    "### Range\n",
    "     range(n):\n",
    "          -> By default it starts from o to n-1\n",
    "          => range(5) = 0,1,2,3,4\n",
    "     range(n,m):\n",
    "           -> Starting range will starts from exactly at n and stops at m-1\n",
    "           => range(4,8) => 4,5,6,7\n",
    "      range(n,m,5):\n",
    "            -> Start range will starts from exactly at n and stops at m-1 and stepping to 5\n",
    "            =>range(4,10,2) => 4,6,8\n",
    "    "
   ]
  },
  {
   "cell_type": "code",
   "execution_count": 17,
   "id": "5122a5d6",
   "metadata": {},
   "outputs": [
    {
     "name": "stdout",
     "output_type": "stream",
     "text": [
      "Enter range value:9\n",
      "0,1,2,3,4,5,6,7,8,"
     ]
    }
   ],
   "source": [
    "n= int(input(\"Enter range value:\"))\n",
    "for i in range(n):\n",
    "    print(i,end=\",\")"
   ]
  },
  {
   "cell_type": "code",
   "execution_count": 20,
   "id": "6b3cc576",
   "metadata": {},
   "outputs": [
    {
     "name": "stdout",
     "output_type": "stream",
     "text": [
      "Enter a staring range value:100\n",
      "Enter a ending range value:120\n",
      "100,101,102,103,104,105,106,107,108,109,110,111,112,113,114,115,116,117,118,119,"
     ]
    }
   ],
   "source": [
    "n= int(input(\"Enter a staring range value:\"))\n",
    "m= int(input(\"Enter a ending range value:\"))\n",
    "for i in range(n,m):\n",
    "    print(i,end=\",\")"
   ]
  },
  {
   "cell_type": "code",
   "execution_count": 21,
   "id": "c31febab",
   "metadata": {},
   "outputs": [
    {
     "name": "stdout",
     "output_type": "stream",
     "text": [
      "Enter a staring range value:12\n",
      "Enter a ending range value:20\n",
      "Enter a stepping value:2\n",
      "12,14,16,18,"
     ]
    }
   ],
   "source": [
    "n= int(input(\"Enter a staring range value:\"))\n",
    "m= int(input(\"Enter a ending range value:\"))\n",
    "s= int(input(\"Enter a stepping value:\"))\n",
    "for i in range(n,m,s):\n",
    "    print(i,end=\",\")"
   ]
  },
  {
   "cell_type": "code",
   "execution_count": 25,
   "id": "780d0f2b",
   "metadata": {},
   "outputs": [
    {
     "name": "stdout",
     "output_type": "stream",
     "text": [
      "Enter a staring range value:2\n",
      "Enter a ending range value:10\n",
      "Enter a stepping value:2\n",
      "10,8,6,4,"
     ]
    }
   ],
   "source": [
    "n= int(input(\"Enter a staring range value:\"))\n",
    "m= int(input(\"Enter a ending range value:\"))\n",
    "s= int(input(\"Enter a stepping value:\"))\n",
    "for i in range(m,n,-s):\n",
    "    print(i,end=\",\")"
   ]
  },
  {
   "cell_type": "code",
   "execution_count": null,
   "id": "9939ab52",
   "metadata": {},
   "outputs": [],
   "source": []
  }
 ],
 "metadata": {
  "kernelspec": {
   "display_name": "Python 3",
   "language": "python",
   "name": "python3"
  },
  "language_info": {
   "codemirror_mode": {
    "name": "ipython",
    "version": 3
   },
   "file_extension": ".py",
   "mimetype": "text/x-python",
   "name": "python",
   "nbconvert_exporter": "python",
   "pygments_lexer": "ipython3",
   "version": "3.9.5"
  }
 },
 "nbformat": 4,
 "nbformat_minor": 5
}
