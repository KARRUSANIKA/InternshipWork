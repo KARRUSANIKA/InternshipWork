{
 "cells": [
  {
   "cell_type": "markdown",
   "id": "fccfc7cb",
   "metadata": {},
   "source": [
    "# Python Data Structures,Iterators,Data structures:\n",
    "       - List \n",
    "       - Tuple\n",
    "       - Set\n",
    "       - Dictionary\n",
    "       - String"
   ]
  },
  {
   "cell_type": "markdown",
   "id": "8013b530",
   "metadata": {},
   "source": [
    "## Python Iterators,Data types,Data Structures\n"
   ]
  },
  {
   "cell_type": "markdown",
   "id": "02bdfa36",
   "metadata": {},
   "source": [
    "# List:\n",
    "      - It can store different data type elements \n",
    "      - It can be defined as \"[]\" and type casting as list()\n",
    "      - It consists of index so slicing can be done\n",
    "      - It stores the value in given format\n",
    "      -In this the values can be changed"
   ]
  },
  {
   "cell_type": "markdown",
   "id": "aa680e0b",
   "metadata": {},
   "source": [
    "# Tuple:\n",
    "        - It can store different data type elements\n",
    "        - It can be defined as\"()\" and type casting as tuple()\n",
    "        - It consists of index so slicing can be done\n",
    "        - It stores the value in the given format\n",
    "        - In this the values can be changed\n",
    "        - It can stores duplicate elements\n",
    "        "
   ]
  },
  {
   "cell_type": "markdown",
   "id": "11fcb5b2",
   "metadata": {},
   "source": [
    "# Set:\n",
    "      - It can store different data type elements\n",
    "      - It can be defined as \"{}\" and type casting as \"set()\" => {a} => set\n",
    "      - It doesn't consists of index and slicing can't be done\n",
    "      - It stores the value in given format but it prints in alphabetical order\n",
    "      - In this the values can be changed\n",
    "      - It can't store duplicate elements\n",
    "      "
   ]
  },
  {
   "cell_type": "markdown",
   "id": "2d622c03",
   "metadata": {},
   "source": [
    "# Dictionary:\n",
    "      - It can store the different type of elements but if follows key and value pairs\n",
    "      - It can br defined as \"{}\" by default as type casting as \"dict()\"\n",
    "      - It consists of index but it can be applicable for either keys and values\n",
    "      - It stores the value in given format\n",
    "      - In this values can be changed\n",
    "      - it cannot stores the duplicate keys but it stores duplicate values"
   ]
  },
  {
   "cell_type": "markdown",
   "id": "b4560d14",
   "metadata": {},
   "source": [
    "# List:"
   ]
  },
  {
   "cell_type": "code",
   "execution_count": 2,
   "id": "3de1f8d4",
   "metadata": {},
   "outputs": [
    {
     "name": "stdout",
     "output_type": "stream",
     "text": [
      "[23, 45.26, 'rajesh', 23, 'somu'] <class 'list'>\n"
     ]
    }
   ],
   "source": [
    "k =[23,45.26,\"rajesh\",23,\"somu\"]\n",
    "print(k,type(k))"
   ]
  },
  {
   "cell_type": "markdown",
   "id": "a2c45622",
   "metadata": {},
   "source": [
    "a = 15\n",
    "print(type(a))"
   ]
  },
  {
   "cell_type": "code",
   "execution_count": 3,
   "id": "65e66f00",
   "metadata": {},
   "outputs": [
    {
     "name": "stdout",
     "output_type": "stream",
     "text": [
      "<class 'int'>\n"
     ]
    }
   ],
   "source": [
    "a=15\n",
    "print(type(a))"
   ]
  },
  {
   "cell_type": "code",
   "execution_count": 4,
   "id": "24e9a3a8",
   "metadata": {},
   "outputs": [
    {
     "name": "stdout",
     "output_type": "stream",
     "text": [
      "rajesh\n"
     ]
    }
   ],
   "source": [
    "print(k[2])"
   ]
  },
  {
   "cell_type": "code",
   "execution_count": 6,
   "id": "6c7b04c5",
   "metadata": {},
   "outputs": [
    {
     "name": "stdout",
     "output_type": "stream",
     "text": [
      "somu\n"
     ]
    }
   ],
   "source": [
    "print(k[-1])"
   ]
  },
  {
   "cell_type": "code",
   "execution_count": 8,
   "id": "9d55e5b2",
   "metadata": {},
   "outputs": [
    {
     "name": "stdout",
     "output_type": "stream",
     "text": [
      "[45.26, 'rajesh', 23]\n"
     ]
    }
   ],
   "source": [
    "print(k[1:4])\n"
   ]
  },
  {
   "cell_type": "code",
   "execution_count": 11,
   "id": "fa498219",
   "metadata": {},
   "outputs": [
    {
     "name": "stdout",
     "output_type": "stream",
     "text": [
      "['__add__', '__class__', '__class_getitem__', '__contains__', '__delattr__', '__delitem__', '__dir__', '__doc__', '__eq__', '__format__', '__ge__', '__getattribute__', '__getitem__', '__gt__', '__hash__', '__iadd__', '__imul__', '__init__', '__init_subclass__', '__iter__', '__le__', '__len__', '__lt__', '__mul__', '__ne__', '__new__', '__reduce__', '__reduce_ex__', '__repr__', '__reversed__', '__rmul__', '__setattr__', '__setitem__', '__sizeof__', '__str__', '__subclasshook__', 'append', 'clear', 'copy', 'count', 'extend', 'index', 'insert', 'pop', 'remove', 'reverse', 'sort']\n"
     ]
    }
   ],
   "source": [
    "print(dir(list))"
   ]
  },
  {
   "cell_type": "code",
   "execution_count": 12,
   "id": "57abe057",
   "metadata": {},
   "outputs": [
    {
     "name": "stdout",
     "output_type": "stream",
     "text": [
      "['__add__', '__class__', '__class_getitem__', '__contains__', '__delattr__', '__delitem__', '__dir__', '__doc__', '__eq__', '__format__', '__ge__', '__getattribute__', '__getitem__', '__gt__', '__hash__', '__iadd__', '__imul__', '__init__', '__init_subclass__', '__iter__', '__le__', '__len__', '__lt__', '__mul__', '__ne__', '__new__', '__reduce__', '__reduce_ex__', '__repr__', '__reversed__', '__rmul__', '__setattr__', '__setitem__', '__sizeof__', '__str__', '__subclasshook__', 'append', 'clear', 'copy', 'count', 'extend', 'index', 'insert', 'pop', 'remove', 'reverse', 'sort']\n"
     ]
    }
   ],
   "source": [
    "print(dir(k))"
   ]
  },
  {
   "cell_type": "code",
   "execution_count": 13,
   "id": "c29bf068",
   "metadata": {},
   "outputs": [
    {
     "name": "stdout",
     "output_type": "stream",
     "text": [
      "[45, 78, 56]\n",
      "23\n",
      "[45, 78, 56, '23']\n"
     ]
    }
   ],
   "source": [
    "m=[45,78,56]\n",
    "print(m)\n",
    "n=input()\n",
    "m.append(n)\n",
    "print(m)\n"
   ]
  },
  {
   "cell_type": "code",
   "execution_count": 14,
   "id": "a1f0a6db",
   "metadata": {},
   "outputs": [
    {
     "name": "stdout",
     "output_type": "stream",
     "text": [
      "[45, 78, 56]\n",
      "23\n",
      "[45, 78, 56, 23]\n"
     ]
    }
   ],
   "source": [
    "m=[45,78,56]\n",
    "print(m)\n",
    "n=int(input())\n",
    "m.append(n)\n",
    "print(m)\n"
   ]
  },
  {
   "cell_type": "code",
   "execution_count": 18,
   "id": "8eeba63b",
   "metadata": {},
   "outputs": [
    {
     "name": "stdout",
     "output_type": "stream",
     "text": [
      "['tarun', 45, 148, 45, 20] <class 'list'>\n",
      "['tarun', 45, 148, 45, 20]\n",
      "['tarun', 45, 148, 45, 20, 'prasad']\n",
      "['tarun', 45, 148, 45, 20]\n"
     ]
    }
   ],
   "source": [
    "n=[\"tarun\",45,148,45,20]\n",
    "b=n.copy()\n",
    "print(b,type(b))\n",
    "print(n)\n",
    "n.append(\"prasad\")\n",
    "print(n)\n",
    "print(b)"
   ]
  },
  {
   "cell_type": "code",
   "execution_count": 20,
   "id": "1111e0ab",
   "metadata": {},
   "outputs": [
    {
     "name": "stdout",
     "output_type": "stream",
     "text": [
      "['tarun', 45, 148, 45, 20] <class 'list'>\n",
      "['tarun', 45, 148, 45, 20]\n",
      "['tarun', 45, 148, 45, 20]\n",
      "['tarun', 45, 148, 45, 20, 'prasad']\n",
      "['tarun', 45, 148, 45, 20, 'kumar']\n",
      "['tarun', 45, 148, 45, 20, 'prasad']\n"
     ]
    }
   ],
   "source": [
    "n=[\"tarun\",45,148,45,20]\n",
    "b=n.copy()\n",
    "print(b,type(b))\n",
    "print(n)\n",
    "b.append(\"prasad\")\n",
    "print(n)\n",
    "print(b)\n",
    "n.append(\"kumar\")\n",
    "print(n)\n",
    "print(b)"
   ]
  },
  {
   "cell_type": "code",
   "execution_count": 24,
   "id": "bb4b43cd",
   "metadata": {},
   "outputs": [
    {
     "name": "stdout",
     "output_type": "stream",
     "text": [
      "2\n"
     ]
    }
   ],
   "source": [
    "p=[12,15,12,78,\"somesh\",69,\"kiran\"]\n",
    "print(p.count(12))"
   ]
  },
  {
   "cell_type": "code",
   "execution_count": 26,
   "id": "095d4c48",
   "metadata": {},
   "outputs": [
    {
     "name": "stdout",
     "output_type": "stream",
     "text": [
      "0\n",
      "1\n",
      "2\n",
      "3\n",
      "4\n",
      "5\n",
      "6\n"
     ]
    }
   ],
   "source": [
    "p=[12,15,12,78,\"somesh\",69,\"kiran\"]\n",
    "for i in range(len(p)):\n",
    "    print(i)"
   ]
  },
  {
   "cell_type": "code",
   "execution_count": 31,
   "id": "71708cb2",
   "metadata": {},
   "outputs": [
    {
     "name": "stdout",
     "output_type": "stream",
     "text": [
      "12 count is: 2\n",
      "15 count is: 1\n",
      "12 count is: 2\n",
      "78 count is: 1\n",
      "somesh count is: 1\n",
      "69 count is: 1\n",
      "kiran count is: 1\n"
     ]
    }
   ],
   "source": [
    "p=[12,15,12,78,\"somesh\",69,\"kiran\"]\n",
    "for i in p:\n",
    "    print(\"{} count is: {}\".format(i,p.count(i)))"
   ]
  },
  {
   "cell_type": "code",
   "execution_count": 34,
   "id": "47072c26",
   "metadata": {},
   "outputs": [
    {
     "name": "stdout",
     "output_type": "stream",
     "text": [
      "[78, 89.789, 'prasad']\n",
      "['somu', 'tejaswini', 'lalitha', 78, 89.789, 'prasad']\n",
      "[78, 89.789, 'prasad']\n",
      "['somu', 'tejaswini', 'lalitha', 78, 89.789, 'prasad', 200]\n"
     ]
    }
   ],
   "source": [
    "v=[78,89.789,\"prasad\"]\n",
    "b=[\"somu\",\"tejaswini\",\"lalitha\"]\n",
    "b.extend(v)\n",
    "print(v)\n",
    "print(b)\n",
    "b.append(200)\n",
    "print(v)\n",
    "print(b)"
   ]
  },
  {
   "cell_type": "code",
   "execution_count": 37,
   "id": "086dd205",
   "metadata": {},
   "outputs": [
    {
     "data": {
      "text/plain": [
       "0"
      ]
     },
     "execution_count": 37,
     "metadata": {},
     "output_type": "execute_result"
    }
   ],
   "source": [
    "v.index(78)"
   ]
  },
  {
   "cell_type": "code",
   "execution_count": 39,
   "id": "5d302fdc",
   "metadata": {},
   "outputs": [
    {
     "name": "stdout",
     "output_type": "stream",
     "text": [
      "[9, 12, 15, 19, 75]\n"
     ]
    }
   ],
   "source": [
    "x=[12,15,19,75]\n",
    "x.insert(0,9)\n",
    "print(x)"
   ]
  },
  {
   "cell_type": "code",
   "execution_count": 41,
   "id": "b2ff4b00",
   "metadata": {},
   "outputs": [
    {
     "name": "stdout",
     "output_type": "stream",
     "text": [
      "Insert object before index.\n"
     ]
    }
   ],
   "source": [
    "print(list.insert.__doc__)"
   ]
  },
  {
   "cell_type": "code",
   "execution_count": 42,
   "id": "55e026df",
   "metadata": {},
   "outputs": [
    {
     "name": "stdout",
     "output_type": "stream",
     "text": [
      "Help on method_descriptor:\n",
      "\n",
      "insert(self, index, object, /)\n",
      "    Insert object before index.\n",
      "\n"
     ]
    }
   ],
   "source": [
    "help(list.insert)"
   ]
  },
  {
   "cell_type": "code",
   "execution_count": 43,
   "id": "1c25abb9",
   "metadata": {},
   "outputs": [
    {
     "name": "stdout",
     "output_type": "stream",
     "text": [
      "[9, 12, 15, 19, 75]\n",
      "[9, 12, 15, 19]\n"
     ]
    }
   ],
   "source": [
    "print(x)\n",
    "x.pop()\n",
    "print(x)"
   ]
  },
  {
   "cell_type": "code",
   "execution_count": 47,
   "id": "32a221d7",
   "metadata": {},
   "outputs": [
    {
     "name": "stdout",
     "output_type": "stream",
     "text": [
      "[9, 12]\n"
     ]
    },
    {
     "ename": "IndexError",
     "evalue": "pop index out of range",
     "output_type": "error",
     "traceback": [
      "\u001b[1;31m---------------------------------------------------------------------------\u001b[0m",
      "\u001b[1;31mIndexError\u001b[0m                                Traceback (most recent call last)",
      "\u001b[1;32m<ipython-input-47-41d636b0d075>\u001b[0m in \u001b[0;36m<module>\u001b[1;34m\u001b[0m\n\u001b[0;32m      1\u001b[0m \u001b[0mprint\u001b[0m\u001b[1;33m(\u001b[0m\u001b[0mx\u001b[0m\u001b[1;33m)\u001b[0m\u001b[1;33m\u001b[0m\u001b[1;33m\u001b[0m\u001b[0m\n\u001b[1;32m----> 2\u001b[1;33m \u001b[0mx\u001b[0m\u001b[1;33m.\u001b[0m\u001b[0mpop\u001b[0m\u001b[1;33m(\u001b[0m\u001b[1;36m2\u001b[0m\u001b[1;33m)\u001b[0m\u001b[1;33m\u001b[0m\u001b[1;33m\u001b[0m\u001b[0m\n\u001b[0m\u001b[0;32m      3\u001b[0m \u001b[0mprint\u001b[0m\u001b[1;33m(\u001b[0m\u001b[0mx\u001b[0m\u001b[1;33m)\u001b[0m\u001b[1;33m\u001b[0m\u001b[1;33m\u001b[0m\u001b[0m\n",
      "\u001b[1;31mIndexError\u001b[0m: pop index out of range"
     ]
    }
   ],
   "source": [
    "print(x)\n",
    "x.pop(2)\n",
    "print(x)"
   ]
  },
  {
   "cell_type": "code",
   "execution_count": 50,
   "id": "cd3e036d",
   "metadata": {},
   "outputs": [
    {
     "name": "stdout",
     "output_type": "stream",
     "text": [
      "[78, 89.789, 'prasad']\n",
      "[89.789, 'prasad']\n"
     ]
    }
   ],
   "source": [
    "print(v)\n",
    "v.remove(78)\n",
    "print(v)"
   ]
  },
  {
   "cell_type": "code",
   "execution_count": 51,
   "id": "a733acb1",
   "metadata": {},
   "outputs": [
    {
     "name": "stdout",
     "output_type": "stream",
     "text": [
      "[89.789, 'prasad']\n",
      "['prasad', 89.789]\n"
     ]
    }
   ],
   "source": [
    "print(v)\n",
    "v.reverse()\n",
    "print(v)"
   ]
  },
  {
   "cell_type": "code",
   "execution_count": 53,
   "id": "ad4fd927",
   "metadata": {},
   "outputs": [
    {
     "name": "stdout",
     "output_type": "stream",
     "text": [
      "['prasad', 89.789]\n"
     ]
    },
    {
     "ename": "TypeError",
     "evalue": "'<' not supported between instances of 'float' and 'str'",
     "output_type": "error",
     "traceback": [
      "\u001b[1;31m---------------------------------------------------------------------------\u001b[0m",
      "\u001b[1;31mTypeError\u001b[0m                                 Traceback (most recent call last)",
      "\u001b[1;32m<ipython-input-53-9bb7434ac28e>\u001b[0m in \u001b[0;36m<module>\u001b[1;34m\u001b[0m\n\u001b[0;32m      1\u001b[0m \u001b[0mprint\u001b[0m\u001b[1;33m(\u001b[0m\u001b[0mv\u001b[0m\u001b[1;33m)\u001b[0m\u001b[1;33m\u001b[0m\u001b[1;33m\u001b[0m\u001b[0m\n\u001b[1;32m----> 2\u001b[1;33m \u001b[0mv\u001b[0m\u001b[1;33m.\u001b[0m\u001b[0msort\u001b[0m\u001b[1;33m(\u001b[0m\u001b[1;33m)\u001b[0m\u001b[1;33m\u001b[0m\u001b[1;33m\u001b[0m\u001b[0m\n\u001b[0m\u001b[0;32m      3\u001b[0m \u001b[0mprint\u001b[0m\u001b[1;33m(\u001b[0m\u001b[0mv\u001b[0m\u001b[1;33m)\u001b[0m\u001b[1;33m\u001b[0m\u001b[1;33m\u001b[0m\u001b[0m\n",
      "\u001b[1;31mTypeError\u001b[0m: '<' not supported between instances of 'float' and 'str'"
     ]
    }
   ],
   "source": [
    "print(v)\n",
    "v.sort()\n",
    "print(v)"
   ]
  },
  {
   "cell_type": "code",
   "execution_count": 54,
   "id": "aa3f8205",
   "metadata": {},
   "outputs": [
    {
     "name": "stdout",
     "output_type": "stream",
     "text": [
      "[45, 47, 48, 49, 48]\n",
      "[45, 47, 48, 48, 49]\n"
     ]
    }
   ],
   "source": [
    "p=[45,47,48,49,48]\n",
    "print(p)\n",
    "p.sort()\n",
    "print(p)"
   ]
  },
  {
   "cell_type": "code",
   "execution_count": 55,
   "id": "11d056e0",
   "metadata": {},
   "outputs": [
    {
     "name": "stdout",
     "output_type": "stream",
     "text": [
      "[9.8, 9.6, 9.7, 9.9]\n",
      "[9.6, 9.7, 9.8, 9.9]\n"
     ]
    }
   ],
   "source": [
    "s=[9.8,9.6,9.7,9.9]\n",
    "print(s)\n",
    "s.sort()\n",
    "print(s)"
   ]
  },
  {
   "cell_type": "code",
   "execution_count": 56,
   "id": "4c933232",
   "metadata": {},
   "outputs": [
    {
     "name": "stdout",
     "output_type": "stream",
     "text": [
      "['abbul', 'somu', 'kiran', 'raju', 'minal']\n",
      "['abbul', 'kiran', 'minal', 'raju', 'somu']\n"
     ]
    }
   ],
   "source": [
    "y=[\"abbul\",\"somu\",\"kiran\",\"raju\",\"minal\"]\n",
    "print(y)\n",
    "y.sort()\n",
    "print(y)"
   ]
  },
  {
   "cell_type": "code",
   "execution_count": 58,
   "id": "498ac9fc",
   "metadata": {},
   "outputs": [
    {
     "data": {
      "text/plain": [
       "['abbul', 'kiran', 'minal', 'raju', 'somu']"
      ]
     },
     "execution_count": 58,
     "metadata": {},
     "output_type": "execute_result"
    }
   ],
   "source": [
    "sorted(y)"
   ]
  },
  {
   "cell_type": "code",
   "execution_count": 60,
   "id": "7200db2b",
   "metadata": {},
   "outputs": [
    {
     "name": "stdout",
     "output_type": "stream",
     "text": [
      "['abbul', 'kiran', 'minal', 'raju', 'somu']\n"
     ]
    }
   ],
   "source": [
    "print(y)"
   ]
  },
  {
   "cell_type": "code",
   "execution_count": 61,
   "id": "7c96d407",
   "metadata": {},
   "outputs": [
    {
     "name": "stdout",
     "output_type": "stream",
     "text": [
      "[45, 4, 400]\n",
      "[4, 45, 400]\n"
     ]
    }
   ],
   "source": [
    "d=[45,4,400]\n",
    "f=sorted(d)\n",
    "print(d)\n",
    "print(f)"
   ]
  },
  {
   "cell_type": "code",
   "execution_count": 62,
   "id": "904d5fbf",
   "metadata": {},
   "outputs": [
    {
     "name": "stdout",
     "output_type": "stream",
     "text": [
      "[45, 4, 400]\n",
      "[]\n"
     ]
    }
   ],
   "source": [
    "print(d)\n",
    "d.clear()\n",
    "print(d)"
   ]
  },
  {
   "cell_type": "code",
   "execution_count": 64,
   "id": "9e159cb1",
   "metadata": {},
   "outputs": [
    {
     "name": "stdout",
     "output_type": "stream",
     "text": [
      "[67, 68, 69]\n"
     ]
    },
    {
     "ename": "NameError",
     "evalue": "name 'f' is not defined",
     "output_type": "error",
     "traceback": [
      "\u001b[1;31m---------------------------------------------------------------------------\u001b[0m",
      "\u001b[1;31mNameError\u001b[0m                                 Traceback (most recent call last)",
      "\u001b[1;32m<ipython-input-64-cafc1b1507bc>\u001b[0m in \u001b[0;36m<module>\u001b[1;34m\u001b[0m\n\u001b[0;32m      2\u001b[0m \u001b[0mprint\u001b[0m\u001b[1;33m(\u001b[0m\u001b[0mf\u001b[0m\u001b[1;33m)\u001b[0m\u001b[1;33m\u001b[0m\u001b[1;33m\u001b[0m\u001b[0m\n\u001b[0;32m      3\u001b[0m \u001b[1;32mdel\u001b[0m\u001b[1;33m(\u001b[0m\u001b[0mf\u001b[0m\u001b[1;33m)\u001b[0m\u001b[1;33m\u001b[0m\u001b[1;33m\u001b[0m\u001b[0m\n\u001b[1;32m----> 4\u001b[1;33m \u001b[0mprint\u001b[0m\u001b[1;33m(\u001b[0m\u001b[0mf\u001b[0m\u001b[1;33m)\u001b[0m\u001b[1;33m\u001b[0m\u001b[1;33m\u001b[0m\u001b[0m\n\u001b[0m",
      "\u001b[1;31mNameError\u001b[0m: name 'f' is not defined"
     ]
    }
   ],
   "source": [
    "f=[67,68,69]\n",
    "print(f)\n",
    "del(f)\n",
    "print(f)"
   ]
  },
  {
   "cell_type": "code",
   "execution_count": 65,
   "id": "3eee453c",
   "metadata": {},
   "outputs": [
    {
     "name": "stdout",
     "output_type": "stream",
     "text": [
      "(12, 48, 79.89, 'tarun')\n"
     ]
    }
   ],
   "source": [
    "s=(12,48,79.89,\"tarun\")\n",
    "print(s)"
   ]
  },
  {
   "cell_type": "code",
   "execution_count": 66,
   "id": "4741f3e2",
   "metadata": {},
   "outputs": [
    {
     "name": "stdout",
     "output_type": "stream",
     "text": [
      "['__add__', '__class__', '__class_getitem__', '__contains__', '__delattr__', '__dir__', '__doc__', '__eq__', '__format__', '__ge__', '__getattribute__', '__getitem__', '__getnewargs__', '__gt__', '__hash__', '__init__', '__init_subclass__', '__iter__', '__le__', '__len__', '__lt__', '__mul__', '__ne__', '__new__', '__reduce__', '__reduce_ex__', '__repr__', '__rmul__', '__setattr__', '__sizeof__', '__str__', '__subclasshook__', 'count', 'index']\n"
     ]
    }
   ],
   "source": [
    "print(dir(tuple))"
   ]
  },
  {
   "cell_type": "code",
   "execution_count": 68,
   "id": "013c1c2e",
   "metadata": {},
   "outputs": [
    {
     "name": "stdout",
     "output_type": "stream",
     "text": [
      "(12, 48, 79.89, 'tarun')\n",
      "1\n",
      "(12, 48, 79.89, 'tarun')\n"
     ]
    }
   ],
   "source": [
    "print(s)\n",
    "print(s.count(12))\n",
    "print(s)"
   ]
  },
  {
   "cell_type": "markdown",
   "id": "3f1f1166",
   "metadata": {},
   "source": [
    "s.index()"
   ]
  },
  {
   "cell_type": "code",
   "execution_count": 70,
   "id": "ac4f4ab1",
   "metadata": {},
   "outputs": [
    {
     "data": {
      "text/plain": [
       "1"
      ]
     },
     "execution_count": 70,
     "metadata": {},
     "output_type": "execute_result"
    }
   ],
   "source": [
    "s.index(48)"
   ]
  },
  {
   "cell_type": "code",
   "execution_count": 73,
   "id": "f4666a4c",
   "metadata": {},
   "outputs": [
    {
     "name": "stdout",
     "output_type": "stream",
     "text": [
      "[45, 67, 70, 69] <class 'list'>\n",
      "(45, 67, 69, 70)\n"
     ]
    }
   ],
   "source": [
    "p=(45,67,70,69)\n",
    "d=list(p)\n",
    "print(d,type(d))\n",
    "d.sort()\n",
    "q=tuple(d)\n",
    "print(q)"
   ]
  },
  {
   "cell_type": "code",
   "execution_count": null,
   "id": "45974ba4",
   "metadata": {},
   "outputs": [],
   "source": []
  }
 ],
 "metadata": {
  "kernelspec": {
   "display_name": "Python 3",
   "language": "python",
   "name": "python3"
  },
  "language_info": {
   "codemirror_mode": {
    "name": "ipython",
    "version": 3
   },
   "file_extension": ".py",
   "mimetype": "text/x-python",
   "name": "python",
   "nbconvert_exporter": "python",
   "pygments_lexer": "ipython3",
   "version": "3.9.5"
  }
 },
 "nbformat": 4,
 "nbformat_minor": 5
}
