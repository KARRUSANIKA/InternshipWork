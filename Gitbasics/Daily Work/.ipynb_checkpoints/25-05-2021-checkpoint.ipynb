{
 "cells": [
  {
   "cell_type": "markdown",
   "id": "ff17e329",
   "metadata": {},
   "source": [
    "# MARKDOWN FORMAT"
   ]
  },
  {
   "cell_type": "markdown",
   "id": "4c49b4de",
   "metadata": {},
   "source": [
    "# Heading-1\n",
    "## Heading-2\n",
    "### Heading-3\n",
    "#### Heading-4\n",
    "##### Heading-5\n",
    "###### Heading-6"
   ]
  },
  {
   "cell_type": "markdown",
   "id": "1897de2b",
   "metadata": {},
   "source": [
    "## Python"
   ]
  },
  {
   "cell_type": "markdown",
   "id": "8473d850",
   "metadata": {},
   "source": [
    "## Python Installations,Execution ways,Jupyter Installation"
   ]
  },
  {
   "cell_type": "markdown",
   "id": "8b138d1b",
   "metadata": {},
   "source": [
    "## Variable:\n",
    "     - To store a value\n",
    "     - To access the value in different functions methods\n",
    "     - To changes value"
   ]
  },
  {
   "cell_type": "code",
   "execution_count": 4,
   "id": "0b9ee6d1",
   "metadata": {},
   "outputs": [],
   "source": [
    "a = 10"
   ]
  },
  {
   "cell_type": "code",
   "execution_count": 5,
   "id": "bb864331",
   "metadata": {},
   "outputs": [
    {
     "data": {
      "text/plain": [
       "10"
      ]
     },
     "execution_count": 5,
     "metadata": {},
     "output_type": "execute_result"
    }
   ],
   "source": [
    "a"
   ]
  },
  {
   "cell_type": "code",
   "execution_count": 6,
   "id": "dc87d088",
   "metadata": {},
   "outputs": [],
   "source": [
    "b = 20"
   ]
  },
  {
   "cell_type": "code",
   "execution_count": 7,
   "id": "62c9e0e8",
   "metadata": {},
   "outputs": [
    {
     "data": {
      "text/plain": [
       "20"
      ]
     },
     "execution_count": 7,
     "metadata": {},
     "output_type": "execute_result"
    }
   ],
   "source": [
    "b"
   ]
  },
  {
   "cell_type": "code",
   "execution_count": 10,
   "id": "26d93715",
   "metadata": {},
   "outputs": [
    {
     "data": {
      "text/plain": [
       "(200, 'rajesh')"
      ]
     },
     "execution_count": 10,
     "metadata": {},
     "output_type": "execute_result"
    }
   ],
   "source": [
    "a = 200\n",
    "b = 'rajesh'\n",
    "a,b\n"
   ]
  },
  {
   "cell_type": "code",
   "execution_count": 11,
   "id": "9a342478",
   "metadata": {},
   "outputs": [
    {
     "name": "stdout",
     "output_type": "stream",
     "text": [
      "200 rajesh\n"
     ]
    }
   ],
   "source": [
    "print(a,b)"
   ]
  },
  {
   "cell_type": "code",
   "execution_count": 12,
   "id": "452b7c42",
   "metadata": {},
   "outputs": [
    {
     "name": "stdout",
     "output_type": "stream",
     "text": [
      "rajesh 200\n"
     ]
    }
   ],
   "source": [
    "print(b,a)"
   ]
  },
  {
   "cell_type": "markdown",
   "id": "d5adb0c4",
   "metadata": {},
   "source": [
    "## Data Types\n",
    "     - Int -> only numbers\n",
    "     - Float -> decimal points\n",
    "     - String -> either with ' or ''"
   ]
  },
  {
   "cell_type": "code",
   "execution_count": 13,
   "id": "40d2f4ea",
   "metadata": {},
   "outputs": [
    {
     "data": {
      "text/plain": [
       "\"\\nc = 23.000\\nt = 'Tarun'\\n\""
      ]
     },
     "execution_count": 13,
     "metadata": {},
     "output_type": "execute_result"
    }
   ],
   "source": [
    "'''\n",
    "c = 23.000\n",
    "t = 'Tarun'\n",
    "'''"
   ]
  },
  {
   "cell_type": "code",
   "execution_count": 15,
   "id": "6ac6abac",
   "metadata": {},
   "outputs": [
    {
     "name": "stdout",
     "output_type": "stream",
     "text": [
      "23.0 tarun\n"
     ]
    }
   ],
   "source": [
    "c,t = 23.000,'tarun'\n",
    "print(c,t)"
   ]
  },
  {
   "cell_type": "markdown",
   "id": "077c6f08",
   "metadata": {},
   "source": [
    "## Type:\n",
    "     - To know the data type for that value\n",
    "     - type(variablename,datastructure)"
   ]
  },
  {
   "cell_type": "code",
   "execution_count": 16,
   "id": "f39db00d",
   "metadata": {},
   "outputs": [
    {
     "data": {
      "text/plain": [
       "float"
      ]
     },
     "execution_count": 16,
     "metadata": {},
     "output_type": "execute_result"
    }
   ],
   "source": [
    "type(c)"
   ]
  },
  {
   "cell_type": "code",
   "execution_count": 17,
   "id": "384a7399",
   "metadata": {},
   "outputs": [
    {
     "data": {
      "text/plain": [
       "'12.056'"
      ]
     },
     "execution_count": 17,
     "metadata": {},
     "output_type": "execute_result"
    }
   ],
   "source": [
    "g = '12.056'\n",
    "g"
   ]
  },
  {
   "cell_type": "code",
   "execution_count": 18,
   "id": "6009ef2d",
   "metadata": {},
   "outputs": [
    {
     "name": "stdout",
     "output_type": "stream",
     "text": [
      "12.056\n"
     ]
    }
   ],
   "source": [
    "print(g)"
   ]
  },
  {
   "cell_type": "code",
   "execution_count": 19,
   "id": "a0bbde71",
   "metadata": {},
   "outputs": [
    {
     "data": {
      "text/plain": [
       "str"
      ]
     },
     "execution_count": 19,
     "metadata": {},
     "output_type": "execute_result"
    }
   ],
   "source": [
    "type(g)"
   ]
  },
  {
   "cell_type": "code",
   "execution_count": 20,
   "id": "9f6abac1",
   "metadata": {},
   "outputs": [
    {
     "name": "stdout",
     "output_type": "stream",
     "text": [
      "<class 'str'>\n"
     ]
    }
   ],
   "source": [
    "print(type(g))"
   ]
  },
  {
   "cell_type": "code",
   "execution_count": 22,
   "id": "a0f685ce",
   "metadata": {},
   "outputs": [
    {
     "name": "stdout",
     "output_type": "stream",
     "text": [
      "<class 'float'>\n"
     ]
    }
   ],
   "source": [
    "print(type(c))"
   ]
  },
  {
   "cell_type": "code",
   "execution_count": 23,
   "id": "c765096d",
   "metadata": {},
   "outputs": [
    {
     "name": "stdout",
     "output_type": "stream",
     "text": [
      "<class 'int'>\n"
     ]
    }
   ],
   "source": [
    "print(type(a))"
   ]
  },
  {
   "cell_type": "code",
   "execution_count": 24,
   "id": "785fc90b",
   "metadata": {},
   "outputs": [
    {
     "name": "stdout",
     "output_type": "stream",
     "text": [
      "<class 'int'> <class 'float'> <class 'str'>\n"
     ]
    }
   ],
   "source": [
    "print(type(a),type(c),type(g))"
   ]
  },
  {
   "cell_type": "code",
   "execution_count": 25,
   "id": "1bec78b2",
   "metadata": {},
   "outputs": [
    {
     "data": {
      "text/plain": [
       "(200, 23.0, '12.056')"
      ]
     },
     "execution_count": 25,
     "metadata": {},
     "output_type": "execute_result"
    }
   ],
   "source": [
    "a,c,g"
   ]
  },
  {
   "cell_type": "code",
   "execution_count": 26,
   "id": "688ffaef",
   "metadata": {},
   "outputs": [
    {
     "data": {
      "text/plain": [
       "(float, int, str)"
      ]
     },
     "execution_count": 26,
     "metadata": {},
     "output_type": "execute_result"
    }
   ],
   "source": [
    "type(c),type(a),type(g)"
   ]
  },
  {
   "cell_type": "markdown",
   "id": "e5eb03c3",
   "metadata": {},
   "source": [
    "##  Input():\n",
    "       - By default it will be considered as sting value\n",
    "       - Print(),read()"
   ]
  },
  {
   "cell_type": "code",
   "execution_count": 1,
   "id": "f57fa0ed",
   "metadata": {},
   "outputs": [
    {
     "name": "stdout",
     "output_type": "stream",
     "text": [
      "89\n",
      "89 <class 'str'>\n"
     ]
    }
   ],
   "source": [
    "a = input()\n",
    "print(a,type(a))"
   ]
  },
  {
   "cell_type": "code",
   "execution_count": 4,
   "id": "862d7627",
   "metadata": {},
   "outputs": [
    {
     "name": "stdout",
     "output_type": "stream",
     "text": [
      "Enter a value:rajesh\n",
      "rajesh <class 'str'>\n"
     ]
    }
   ],
   "source": [
    "t = input(\"Enter a value:\")\n",
    "print(t,type(t))"
   ]
  },
  {
   "cell_type": "markdown",
   "id": "8935a7dc",
   "metadata": {},
   "source": [
    "## Type Casting\n",
    "       - Converting one data to another data type\n",
    "       - int(),str(),float()"
   ]
  },
  {
   "cell_type": "code",
   "execution_count": 5,
   "id": "b2eac838",
   "metadata": {},
   "outputs": [
    {
     "name": "stdout",
     "output_type": "stream",
     "text": [
      "Enter only integer values:67\n",
      "67 <class 'int'>\n"
     ]
    }
   ],
   "source": [
    "p = int(input(\"Enter only integer values:\"))\n",
    "print(p,type(p))"
   ]
  },
  {
   "cell_type": "code",
   "execution_count": 6,
   "id": "baddc2bc",
   "metadata": {},
   "outputs": [
    {
     "name": "stdout",
     "output_type": "stream",
     "text": [
      "Enter float values: 8.9\n",
      "8.9 <class 'float'>\n"
     ]
    }
   ],
   "source": [
    "m = float(input(\"Enter float values: \"))\n",
    "print(m,type(m))"
   ]
  },
  {
   "cell_type": "code",
   "execution_count": null,
   "id": "814f76fa",
   "metadata": {},
   "outputs": [],
   "source": []
  },
  {
   "cell_type": "code",
   "execution_count": 12,
   "id": "c9e9521a",
   "metadata": {},
   "outputs": [
    {
     "name": "stdout",
     "output_type": "stream",
     "text": [
      "Enter integer value: 89\n",
      "Enter float value: 9.0\n",
      "Conversion of int value is:  89.0\n",
      "Conversion of float value is:  9\n",
      "Both cases in string is:'89''9.0'\n"
     ]
    }
   ],
   "source": [
    "q = int(input(\"Enter integer value: \"))\n",
    "k = float(input(\"Enter float value: \"))\n",
    "print(\"Conversion of int value is: \",float(q))\n",
    "print(\"Conversion of float value is: \",int(k))\n",
    "print(\"Both cases in string is:\"+\"'\"+str(q)+\"'\"+\" \"+\"'\"+str(k)+\"'\")\n"
   ]
  },
  {
   "cell_type": "markdown",
   "id": "e7d40a8a",
   "metadata": {},
   "source": [
    "##### Input:\n",
    "    Enter integer value:48\n",
    "    Enter float value:45.0218\n",
    "    Conversion of int value is:48.0\n",
    "    Conversion of float value is:45\n",
    "    Both case in string is:'48' '45.0218'    "
   ]
  },
  {
   "cell_type": "code",
   "execution_count": null,
   "id": "6f07987a",
   "metadata": {},
   "outputs": [],
   "source": []
  }
 ],
 "metadata": {
  "kernelspec": {
   "display_name": "Python 3",
   "language": "python",
   "name": "python3"
  },
  "language_info": {
   "codemirror_mode": {
    "name": "ipython",
    "version": 3
   },
   "file_extension": ".py",
   "mimetype": "text/x-python",
   "name": "python",
   "nbconvert_exporter": "python",
   "pygments_lexer": "ipython3",
   "version": "3.9.5"
  }
 },
 "nbformat": 4,
 "nbformat_minor": 5
}
