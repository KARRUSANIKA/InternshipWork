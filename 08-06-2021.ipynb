{
 "cells": [
  {
   "cell_type": "markdown",
   "id": "3746d0e9",
   "metadata": {},
   "source": [
    "## Oops\n",
    "    - class\n",
    "    - object\n",
    "    - method \n",
    "    - constructor\n",
    "    - packages and modules byy using class\n",
    "    - inheritance"
   ]
  },
  {
   "cell_type": "markdown",
   "id": "e81879f5",
   "metadata": {},
   "source": [
    "## Class:\n",
    "     - class is a collection of variable and methods\n",
    "###  Rules to define class\n",
    "      - should not start with number\n",
    "      - not to use keywords\n"
   ]
  },
  {
   "cell_type": "code",
   "execution_count": 1,
   "id": "2a45e537",
   "metadata": {},
   "outputs": [],
   "source": [
    "class Hi:\n",
    "    name,rollno=\"APSSDC\",522\n",
    "    def msg():\n",
    "        print(\"hi all,iam from msg()\")"
   ]
  },
  {
   "cell_type": "code",
   "execution_count": 2,
   "id": "95a1479d",
   "metadata": {},
   "outputs": [
    {
     "data": {
      "text/plain": [
       "'APSSDC'"
      ]
     },
     "execution_count": 2,
     "metadata": {},
     "output_type": "execute_result"
    }
   ],
   "source": [
    "Hi.name"
   ]
  },
  {
   "cell_type": "code",
   "execution_count": 3,
   "id": "45e167b4",
   "metadata": {},
   "outputs": [
    {
     "data": {
      "text/plain": [
       "522"
      ]
     },
     "execution_count": 3,
     "metadata": {},
     "output_type": "execute_result"
    }
   ],
   "source": [
    "Hi.rollno"
   ]
  },
  {
   "cell_type": "code",
   "execution_count": 4,
   "id": "d4454e40",
   "metadata": {},
   "outputs": [
    {
     "name": "stdout",
     "output_type": "stream",
     "text": [
      "hi all,iam from msg()\n"
     ]
    }
   ],
   "source": [
    "Hi.msg()"
   ]
  },
  {
   "cell_type": "code",
   "execution_count": 6,
   "id": "9c7f2663",
   "metadata": {},
   "outputs": [
    {
     "name": "stdout",
     "output_type": "stream",
     "text": [
      "<function msg at 0x0000025B9AB9B310>\n"
     ]
    }
   ],
   "source": [
    " def msg():\n",
    "        print(\"hi all,iam from msg()\")\n",
    "print(msg)"
   ]
  },
  {
   "cell_type": "code",
   "execution_count": 7,
   "id": "096658a1",
   "metadata": {},
   "outputs": [],
   "source": [
    "obj=Hi"
   ]
  },
  {
   "cell_type": "code",
   "execution_count": 8,
   "id": "28343fc5",
   "metadata": {},
   "outputs": [
    {
     "data": {
      "text/plain": [
       "'APSSDC'"
      ]
     },
     "execution_count": 8,
     "metadata": {},
     "output_type": "execute_result"
    }
   ],
   "source": [
    "obj.name"
   ]
  },
  {
   "cell_type": "code",
   "execution_count": 9,
   "id": "03bd4ae8",
   "metadata": {},
   "outputs": [
    {
     "name": "stdout",
     "output_type": "stream",
     "text": [
      "hi all,iam from msg()\n"
     ]
    }
   ],
   "source": [
    "obj.msg()"
   ]
  },
  {
   "cell_type": "code",
   "execution_count": 10,
   "id": "aa2cebcd",
   "metadata": {},
   "outputs": [],
   "source": [
    "class Calsi:\n",
    "    def add(n1,n2):\n",
    "        return n1+n2\n",
    "    def sub(n1,n2):\n",
    "        return n1-n2\n",
    "    def mul(n1,n2):\n",
    "        return n1*n2\n",
    "    def div(n1,n2):\n",
    "        return n1/n2\n",
    "    def \n",
    "    \n",
    "    "
   ]
  },
  {
   "cell_type": "code",
   "execution_count": 11,
   "id": "5718909c",
   "metadata": {},
   "outputs": [
    {
     "data": {
      "text/plain": [
       "45"
      ]
     },
     "execution_count": 11,
     "metadata": {},
     "output_type": "execute_result"
    }
   ],
   "source": [
    "cal=Calsi\n",
    "cal.add(22,23)"
   ]
  },
  {
   "cell_type": "code",
   "execution_count": 12,
   "id": "062a618a",
   "metadata": {},
   "outputs": [
    {
     "data": {
      "text/plain": [
       "17"
      ]
     },
     "execution_count": 12,
     "metadata": {},
     "output_type": "execute_result"
    }
   ],
   "source": [
    "cal.add(9,8)"
   ]
  },
  {
   "cell_type": "markdown",
   "id": "a18b2656",
   "metadata": {},
   "source": [
    "### Constructor:\n",
    "     - is is a special method in python i.e,__init()__\n",
    "     - it eill execute while creating object\n",
    "     - we have 2 different types of constructors\n",
    "            - default\n",
    "            - parameterized"
   ]
  },
  {
   "cell_type": "code",
   "execution_count": 6,
   "id": "0fea1c6b",
   "metadata": {},
   "outputs": [],
   "source": [
    "class Hello:\n",
    "    def __init__(self):\n",
    "        print(\"hi iam default constructor\")"
   ]
  },
  {
   "cell_type": "code",
   "execution_count": 7,
   "id": "45b3c27b",
   "metadata": {},
   "outputs": [
    {
     "name": "stdout",
     "output_type": "stream",
     "text": [
      "hi iam default constructor\n"
     ]
    }
   ],
   "source": [
    "obj=Hello()"
   ]
  },
  {
   "cell_type": "code",
   "execution_count": 74,
   "id": "8f9bfa42",
   "metadata": {},
   "outputs": [],
   "source": [
    "class Hello1:\n",
    "    def __init__(fles,val1,val2):\n",
    "        fles.val1=val1\n",
    "        fles.val2=val2\n",
    "    def show(fles):\n",
    "        print(fles.val1,fles.val2,fles.val3,fles.val4)\n",
    "    def add(fles):\n",
    "        return fles.val1+fles.val2\n",
    "    def profile(fles,val3,val4):\n",
    "        fles.val3=val3\n",
    "        fles.val4=val4\n",
    "        \n",
    "    "
   ]
  },
  {
   "cell_type": "code",
   "execution_count": 75,
   "id": "b5c6b8a6",
   "metadata": {
    "scrolled": true
   },
   "outputs": [],
   "source": [
    "obj=Hello1(4,5)"
   ]
  },
  {
   "cell_type": "code",
   "execution_count": 76,
   "id": "688f1bef",
   "metadata": {},
   "outputs": [
    {
     "ename": "AttributeError",
     "evalue": "'Hello1' object has no attribute 'val3'",
     "output_type": "error",
     "traceback": [
      "\u001b[1;31m---------------------------------------------------------------------------\u001b[0m",
      "\u001b[1;31mAttributeError\u001b[0m                            Traceback (most recent call last)",
      "\u001b[1;32m<ipython-input-76-3a5b94642195>\u001b[0m in \u001b[0;36m<module>\u001b[1;34m\u001b[0m\n\u001b[1;32m----> 1\u001b[1;33m \u001b[0mobj\u001b[0m\u001b[1;33m.\u001b[0m\u001b[0mshow\u001b[0m\u001b[1;33m(\u001b[0m\u001b[1;33m)\u001b[0m\u001b[1;33m\u001b[0m\u001b[1;33m\u001b[0m\u001b[0m\n\u001b[0m",
      "\u001b[1;32m<ipython-input-74-b7238d84c89c>\u001b[0m in \u001b[0;36mshow\u001b[1;34m(fles)\u001b[0m\n\u001b[0;32m      4\u001b[0m         \u001b[0mfles\u001b[0m\u001b[1;33m.\u001b[0m\u001b[0mval2\u001b[0m\u001b[1;33m=\u001b[0m\u001b[0mval2\u001b[0m\u001b[1;33m\u001b[0m\u001b[1;33m\u001b[0m\u001b[0m\n\u001b[0;32m      5\u001b[0m     \u001b[1;32mdef\u001b[0m \u001b[0mshow\u001b[0m\u001b[1;33m(\u001b[0m\u001b[0mfles\u001b[0m\u001b[1;33m)\u001b[0m\u001b[1;33m:\u001b[0m\u001b[1;33m\u001b[0m\u001b[1;33m\u001b[0m\u001b[0m\n\u001b[1;32m----> 6\u001b[1;33m         \u001b[0mprint\u001b[0m\u001b[1;33m(\u001b[0m\u001b[0mfles\u001b[0m\u001b[1;33m.\u001b[0m\u001b[0mval1\u001b[0m\u001b[1;33m,\u001b[0m\u001b[0mfles\u001b[0m\u001b[1;33m.\u001b[0m\u001b[0mval2\u001b[0m\u001b[1;33m,\u001b[0m\u001b[0mfles\u001b[0m\u001b[1;33m.\u001b[0m\u001b[0mval3\u001b[0m\u001b[1;33m,\u001b[0m\u001b[0mfles\u001b[0m\u001b[1;33m.\u001b[0m\u001b[0mval4\u001b[0m\u001b[1;33m)\u001b[0m\u001b[1;33m\u001b[0m\u001b[1;33m\u001b[0m\u001b[0m\n\u001b[0m\u001b[0;32m      7\u001b[0m     \u001b[1;32mdef\u001b[0m \u001b[0madd\u001b[0m\u001b[1;33m(\u001b[0m\u001b[0mfles\u001b[0m\u001b[1;33m)\u001b[0m\u001b[1;33m:\u001b[0m\u001b[1;33m\u001b[0m\u001b[1;33m\u001b[0m\u001b[0m\n\u001b[0;32m      8\u001b[0m         \u001b[1;32mreturn\u001b[0m \u001b[0mfles\u001b[0m\u001b[1;33m.\u001b[0m\u001b[0mval1\u001b[0m\u001b[1;33m+\u001b[0m\u001b[0mfles\u001b[0m\u001b[1;33m.\u001b[0m\u001b[0mval2\u001b[0m\u001b[1;33m\u001b[0m\u001b[1;33m\u001b[0m\u001b[0m\n",
      "\u001b[1;31mAttributeError\u001b[0m: 'Hello1' object has no attribute 'val3'"
     ]
    }
   ],
   "source": [
    "obj.show()"
   ]
  },
  {
   "cell_type": "code",
   "execution_count": 77,
   "id": "194a670e",
   "metadata": {},
   "outputs": [],
   "source": [
    "obj.profile(63,96)"
   ]
  },
  {
   "cell_type": "code",
   "execution_count": 78,
   "id": "250b2baf",
   "metadata": {},
   "outputs": [
    {
     "name": "stdout",
     "output_type": "stream",
     "text": [
      "4 5 63 96\n"
     ]
    }
   ],
   "source": [
    "obj.show()"
   ]
  },
  {
   "cell_type": "code",
   "execution_count": null,
   "id": "a8a61d32",
   "metadata": {},
   "outputs": [],
   "source": [
    "def add(a,b):\n",
    "    this.a=a\n",
    "    this.b=b"
   ]
  },
  {
   "cell_type": "code",
   "execution_count": 47,
   "id": "2679f138",
   "metadata": {},
   "outputs": [],
   "source": [
    "from PACKAGE import mylogics "
   ]
  },
  {
   "cell_type": "code",
   "execution_count": 48,
   "id": "b3d8a22a",
   "metadata": {},
   "outputs": [
    {
     "data": {
      "text/plain": [
       "['Calsi',\n",
       " 'MyMath',\n",
       " '__builtins__',\n",
       " '__cached__',\n",
       " '__doc__',\n",
       " '__file__',\n",
       " '__loader__',\n",
       " '__name__',\n",
       " '__package__',\n",
       " '__spec__']"
      ]
     },
     "execution_count": 48,
     "metadata": {},
     "output_type": "execute_result"
    }
   ],
   "source": [
    "dir(mylogics)"
   ]
  },
  {
   "cell_type": "code",
   "execution_count": 49,
   "id": "eedf30cf",
   "metadata": {},
   "outputs": [
    {
     "data": {
      "text/plain": [
       "True"
      ]
     },
     "execution_count": 49,
     "metadata": {},
     "output_type": "execute_result"
    }
   ],
   "source": [
    "mylogics.MyMath.iseven(52) "
   ]
  },
  {
   "cell_type": "code",
   "execution_count": 50,
   "id": "9124e790",
   "metadata": {},
   "outputs": [],
   "source": [
    "from PACKAGE.mylogics import MyMath"
   ]
  },
  {
   "cell_type": "code",
   "execution_count": 51,
   "id": "97e643a3",
   "metadata": {},
   "outputs": [],
   "source": [
    "obj=MyMath"
   ]
  },
  {
   "cell_type": "code",
   "execution_count": 52,
   "id": "0c8509c0",
   "metadata": {},
   "outputs": [
    {
     "data": {
      "text/plain": [
       "False"
      ]
     },
     "execution_count": 52,
     "metadata": {},
     "output_type": "execute_result"
    }
   ],
   "source": [
    "obj.iseven(9)"
   ]
  },
  {
   "cell_type": "code",
   "execution_count": 53,
   "id": "daebf2cf",
   "metadata": {},
   "outputs": [
    {
     "data": {
      "text/plain": [
       "True"
      ]
     },
     "execution_count": 53,
     "metadata": {},
     "output_type": "execute_result"
    }
   ],
   "source": [
    "obj.isprime(47)"
   ]
  },
  {
   "cell_type": "markdown",
   "id": "c0750989",
   "metadata": {},
   "source": [
    "### Inheritance:\n",
    "    - inheriting properties from parent to child\n",
    "    - acquiring properties from one class to another class\n",
    "    - types of inheritance\n",
    "         - single\n",
    "         - multiple\n",
    "         - multilevel\n",
    "         - hierarichal\n",
    "         - hybrid"
   ]
  },
  {
   "cell_type": "code",
   "execution_count": 54,
   "id": "65d060e1",
   "metadata": {},
   "outputs": [],
   "source": [
    "class Parent:\n",
    "    name=\"parent\"\n",
    "    value=900\n",
    "    def display():\n",
    "        print(\"iam from parent class\")"
   ]
  },
  {
   "cell_type": "code",
   "execution_count": 55,
   "id": "8ff3ab12",
   "metadata": {},
   "outputs": [],
   "source": [
    "class Child(Parent):\n",
    "    cname=\"child\"\n",
    "    age=\"89\"\n",
    "    def show():\n",
    "        print(\"iam from child class\")\n",
    "        "
   ]
  },
  {
   "cell_type": "code",
   "execution_count": 56,
   "id": "fa8a9c09",
   "metadata": {},
   "outputs": [],
   "source": [
    "obj =Child"
   ]
  },
  {
   "cell_type": "code",
   "execution_count": 57,
   "id": "67a5f24f",
   "metadata": {},
   "outputs": [
    {
     "data": {
      "text/plain": [
       "'parent'"
      ]
     },
     "execution_count": 57,
     "metadata": {},
     "output_type": "execute_result"
    }
   ],
   "source": [
    "obj.name"
   ]
  },
  {
   "cell_type": "code",
   "execution_count": 59,
   "id": "ceddb22a",
   "metadata": {},
   "outputs": [
    {
     "name": "stdout",
     "output_type": "stream",
     "text": [
      "iam from parent class\n"
     ]
    }
   ],
   "source": [
    "obj.display()\n"
   ]
  },
  {
   "cell_type": "code",
   "execution_count": null,
   "id": "0ca465f8",
   "metadata": {},
   "outputs": [],
   "source": []
  }
 ],
 "metadata": {
  "kernelspec": {
   "display_name": "Python 3",
   "language": "python",
   "name": "python3"
  },
  "language_info": {
   "codemirror_mode": {
    "name": "ipython",
    "version": 3
   },
   "file_extension": ".py",
   "mimetype": "text/x-python",
   "name": "python",
   "nbconvert_exporter": "python",
   "pygments_lexer": "ipython3",
   "version": "3.9.5"
  }
 },
 "nbformat": 4,
 "nbformat_minor": 5
}
