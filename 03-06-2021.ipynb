{
 "cells": [
  {
   "cell_type": "markdown",
   "id": "d667c242",
   "metadata": {},
   "source": [
    "# Set:"
   ]
  },
  {
   "cell_type": "code",
   "execution_count": 4,
   "id": "92c62468",
   "metadata": {},
   "outputs": [
    {
     "name": "stdout",
     "output_type": "stream",
     "text": [
      "{450, 120, 'ramu', 155, 45, 'a'}\n"
     ]
    }
   ],
   "source": [
    "g={'a',45,120,155,\"ramu\",45,450}\n",
    "print(g)"
   ]
  },
  {
   "cell_type": "code",
   "execution_count": 5,
   "id": "9f497537",
   "metadata": {},
   "outputs": [
    {
     "data": {
      "text/plain": [
       "{120, 155, 45, 450, 'a', 'ramu'}"
      ]
     },
     "execution_count": 5,
     "metadata": {},
     "output_type": "execute_result"
    }
   ],
   "source": [
    "g"
   ]
  },
  {
   "cell_type": "code",
   "execution_count": 6,
   "id": "f60f8bb5",
   "metadata": {},
   "outputs": [
    {
     "name": "stdout",
     "output_type": "stream",
     "text": [
      "{} <class 'dict'>\n",
      "{2} <class 'set'>\n"
     ]
    }
   ],
   "source": [
    "h={}\n",
    "m={2}\n",
    "print(h,type(h))\n",
    "print(m,type(m))"
   ]
  },
  {
   "cell_type": "code",
   "execution_count": 7,
   "id": "3586861a",
   "metadata": {},
   "outputs": [
    {
     "name": "stdout",
     "output_type": "stream",
     "text": [
      "['__and__', '__class__', '__class_getitem__', '__contains__', '__delattr__', '__dir__', '__doc__', '__eq__', '__format__', '__ge__', '__getattribute__', '__gt__', '__hash__', '__iand__', '__init__', '__init_subclass__', '__ior__', '__isub__', '__iter__', '__ixor__', '__le__', '__len__', '__lt__', '__ne__', '__new__', '__or__', '__rand__', '__reduce__', '__reduce_ex__', '__repr__', '__ror__', '__rsub__', '__rxor__', '__setattr__', '__sizeof__', '__str__', '__sub__', '__subclasshook__', '__xor__', 'add', 'clear', 'copy', 'difference', 'difference_update', 'discard', 'intersection', 'intersection_update', 'isdisjoint', 'issubset', 'issuperset', 'pop', 'remove', 'symmetric_difference', 'symmetric_difference_update', 'union', 'update']\n"
     ]
    }
   ],
   "source": [
    "print(dir(set))"
   ]
  },
  {
   "cell_type": "code",
   "execution_count": 8,
   "id": "801df300",
   "metadata": {},
   "outputs": [
    {
     "name": "stdout",
     "output_type": "stream",
     "text": [
      "{0, 67, 36, 'prasanna', 'ramu', 'lalitha'}\n"
     ]
    }
   ],
   "source": [
    "s1={36,67,\"ramu\",0,\"lalitha\"}\n",
    "s1.add(\"prasanna\")\n",
    "print(s1)"
   ]
  },
  {
   "cell_type": "code",
   "execution_count": 9,
   "id": "256c787b",
   "metadata": {},
   "outputs": [
    {
     "data": {
      "text/plain": [
       "{0, 36, 67, 'lalitha', 'prasanna', 'ramu'}"
      ]
     },
     "execution_count": 9,
     "metadata": {},
     "output_type": "execute_result"
    }
   ],
   "source": [
    "s1\n"
   ]
  },
  {
   "cell_type": "code",
   "execution_count": 11,
   "id": "293031e1",
   "metadata": {},
   "outputs": [
    {
     "name": "stdout",
     "output_type": "stream",
     "text": [
      "{67, 36, 'prasanna', 'ramu', 'lalitha'}\n",
      "{36, 'prasanna', 'ramu', 'lalitha'}\n"
     ]
    }
   ],
   "source": [
    "print(s1)\n",
    "s1.pop()\n",
    "print(s1)"
   ]
  },
  {
   "cell_type": "code",
   "execution_count": 13,
   "id": "e8d724b3",
   "metadata": {},
   "outputs": [
    {
     "ename": "NameError",
     "evalue": "name 'ramu' is not defined",
     "output_type": "error",
     "traceback": [
      "\u001b[1;31m---------------------------------------------------------------------------\u001b[0m",
      "\u001b[1;31mNameError\u001b[0m                                 Traceback (most recent call last)",
      "\u001b[1;32m<ipython-input-13-bf3ae843931c>\u001b[0m in \u001b[0;36m<module>\u001b[1;34m\u001b[0m\n\u001b[1;32m----> 1\u001b[1;33m \u001b[0ms1\u001b[0m\u001b[1;33m.\u001b[0m\u001b[0mpop\u001b[0m\u001b[1;33m(\u001b[0m\u001b[0mramu\u001b[0m\u001b[1;33m)\u001b[0m\u001b[1;33m\u001b[0m\u001b[1;33m\u001b[0m\u001b[0m\n\u001b[0m\u001b[0;32m      2\u001b[0m \u001b[0mprint\u001b[0m\u001b[1;33m(\u001b[0m\u001b[0ms1\u001b[0m\u001b[1;33m)\u001b[0m\u001b[1;33m\u001b[0m\u001b[1;33m\u001b[0m\u001b[0m\n",
      "\u001b[1;31mNameError\u001b[0m: name 'ramu' is not defined"
     ]
    }
   ],
   "source": [
    "s1.pop(ramu)\n",
    "print(s1)"
   ]
  },
  {
   "cell_type": "code",
   "execution_count": 14,
   "id": "1cd2ae09",
   "metadata": {},
   "outputs": [
    {
     "name": "stdout",
     "output_type": "stream",
     "text": [
      "{36, 'prasanna', 'ramu', 'lalitha'}\n",
      "{36, 'prasanna', 'lalitha'}\n"
     ]
    }
   ],
   "source": [
    "print(s1)\n",
    "s1.remove(\"ramu\")\n",
    "print(s1)"
   ]
  },
  {
   "cell_type": "code",
   "execution_count": 18,
   "id": "e1d9d5bd",
   "metadata": {},
   "outputs": [
    {
     "name": "stdout",
     "output_type": "stream",
     "text": [
      "{32, 5, 6, 8, 45}\n",
      "{70, 6, 8, 9, 45}\n",
      "{32, 5, 6, 70, 8, 9, 45}\n",
      "{32, 5, 6, 8, 45}\n",
      "{70, 6, 8, 9, 45}\n"
     ]
    }
   ],
   "source": [
    "s2={45,8,32,5,6}\n",
    "s3={45,8,9,70,6}\n",
    "print(s2)\n",
    "print(s3)\n",
    "print(s2.union(s3))\n",
    "print(s2)\n",
    "print(s3)"
   ]
  },
  {
   "cell_type": "code",
   "execution_count": 19,
   "id": "6b58b4ef",
   "metadata": {},
   "outputs": [
    {
     "name": "stdout",
     "output_type": "stream",
     "text": [
      "{32, 5, 6, 8, 45}\n",
      "{70, 6, 8, 9, 45}\n",
      "{8, 45, 6}\n",
      "{32, 5, 6, 8, 45}\n",
      "{70, 6, 8, 9, 45}\n"
     ]
    }
   ],
   "source": [
    "s2={45,8,32,5,6}\n",
    "s3={45,8,9,70,6}\n",
    "print(s2)\n",
    "print(s3)\n",
    "print(s2.intersection(s3))\n",
    "print(s2)\n",
    "print(s3)"
   ]
  },
  {
   "cell_type": "markdown",
   "id": "2e5277c2",
   "metadata": {},
   "source": [
    "# Dictionary:\n"
   ]
  },
  {
   "cell_type": "code",
   "execution_count": 23,
   "id": "094f49d7",
   "metadata": {},
   "outputs": [
    {
     "name": "stdout",
     "output_type": "stream",
     "text": [
      "{'name': ('ramu', 'suresh', 'tejaswini'), 'age': 20, 'sal': (67.8, 90.0, 90.0)} <class 'dict'>\n"
     ]
    }
   ],
   "source": [
    "t={\"name\":(\"ramu\",\"suresh\",\"tejaswini\"),\"age\":20,\"sal\":(67.80,90.00,90.00)}\n",
    "print(t,type(t))"
   ]
  },
  {
   "cell_type": "code",
   "execution_count": 24,
   "id": "b3d6e2af",
   "metadata": {},
   "outputs": [
    {
     "name": "stdout",
     "output_type": "stream",
     "text": [
      "67.8\n"
     ]
    }
   ],
   "source": [
    "print(t[\"sal\"][0])"
   ]
  },
  {
   "cell_type": "code",
   "execution_count": 25,
   "id": "71ef3a7e",
   "metadata": {},
   "outputs": [
    {
     "name": "stdout",
     "output_type": "stream",
     "text": [
      "['__class__', '__class_getitem__', '__contains__', '__delattr__', '__delitem__', '__dir__', '__doc__', '__eq__', '__format__', '__ge__', '__getattribute__', '__getitem__', '__gt__', '__hash__', '__init__', '__init_subclass__', '__ior__', '__iter__', '__le__', '__len__', '__lt__', '__ne__', '__new__', '__or__', '__reduce__', '__reduce_ex__', '__repr__', '__reversed__', '__ror__', '__setattr__', '__setitem__', '__sizeof__', '__str__', '__subclasshook__', 'clear', 'copy', 'fromkeys', 'get', 'items', 'keys', 'pop', 'popitem', 'setdefault', 'update', 'values']\n"
     ]
    }
   ],
   "source": [
    "print(dir(dict))"
   ]
  },
  {
   "cell_type": "code",
   "execution_count": 26,
   "id": "a7f96ff2",
   "metadata": {},
   "outputs": [
    {
     "name": "stdout",
     "output_type": "stream",
     "text": [
      "dict_keys(['name', 'age', 'sal'])\n"
     ]
    }
   ],
   "source": [
    "print(t.keys())"
   ]
  },
  {
   "cell_type": "code",
   "execution_count": 27,
   "id": "6f96e406",
   "metadata": {},
   "outputs": [
    {
     "name": "stdout",
     "output_type": "stream",
     "text": [
      "dict_values([('ramu', 'suresh', 'tejaswini'), 20, (67.8, 90.0, 90.0)])\n"
     ]
    }
   ],
   "source": [
    "print(t.values())"
   ]
  },
  {
   "cell_type": "code",
   "execution_count": 28,
   "id": "b2a17ee1",
   "metadata": {},
   "outputs": [
    {
     "name": "stdout",
     "output_type": "stream",
     "text": [
      "{'name': 'tilak', 'age': [24, 78], 'sal': 90000}\n"
     ]
    }
   ],
   "source": [
    "y={\"name\":\"tilak\",\"age\":[24,78],\"sal\":90000}\n",
    "print(y)"
   ]
  },
  {
   "cell_type": "code",
   "execution_count": 30,
   "id": "7b33e306",
   "metadata": {},
   "outputs": [
    {
     "name": "stdout",
     "output_type": "stream",
     "text": [
      "dict_items([('name', 'tilak'), ('age', [24, 78]), ('sal', 90000)])\n"
     ]
    }
   ],
   "source": [
    "print(y.items())"
   ]
  },
  {
   "cell_type": "code",
   "execution_count": 33,
   "id": "483d5d3a",
   "metadata": {},
   "outputs": [
    {
     "name": "stdout",
     "output_type": "stream",
     "text": [
      "('ramu', 'suresh', 'tejaswini')\n",
      "20\n",
      "None\n"
     ]
    }
   ],
   "source": [
    "print(t.get(\"name\"))\n",
    "print(t.get('age'))\n",
    "print(t.get(\"no\"))"
   ]
  },
  {
   "cell_type": "code",
   "execution_count": 35,
   "id": "814fc20e",
   "metadata": {},
   "outputs": [
    {
     "name": "stdout",
     "output_type": "stream",
     "text": [
      "{'name': ('ramu', 'suresh', 'tejaswini'), 'age': 20, 'sal': (67.8, 90.0, 90.0), 'no': 12}\n",
      "{'name': ('ramu', 'suresh', 'tejaswini'), 'age': 20, 'sal': (67.8, 90.0, 90.0), 'no': [12, 8, 9, 8]}\n"
     ]
    }
   ],
   "source": [
    "print(t)\n",
    "t[\"no\"]=[12,8,9,8]\n",
    "print(t)"
   ]
  },
  {
   "cell_type": "code",
   "execution_count": 36,
   "id": "20a295c9",
   "metadata": {},
   "outputs": [
    {
     "name": "stdout",
     "output_type": "stream",
     "text": [
      "{'name': ('ramu', 'suresh', 'tejaswini'), 'age': 20, 'sal': (67.8, 90.0, 90.0), 'no': [12, 8, 9, 8]}\n",
      "{'name': ('ramu', 'suresh', 'tejaswini'), 'age': 20, 'sal': (67.8, 90.0, 90.0), 'no': 'yamini'}\n"
     ]
    }
   ],
   "source": [
    "print(t)\n",
    "t[\"no\"]=\"yamini\"\n",
    "print(t)"
   ]
  },
  {
   "cell_type": "code",
   "execution_count": 41,
   "id": "de97f1bc",
   "metadata": {},
   "outputs": [
    {
     "name": "stdout",
     "output_type": "stream",
     "text": [
      "{'name': ('ramu', 'suresh', 'tejaswini'), 'age': 20, 'sal': (67.8, 90.0, 90.0), 'no': 'yamini', 'tr': 45}\n",
      "{'name': ('ramu', 'suresh', 'tejaswini'), 'age': 20, 'sal': (67.8, 90.0, 90.0), 'no': 'yamini', 'tr': 45}\n"
     ]
    }
   ],
   "source": [
    "print(t)\n",
    "t.setdefault(\"tr\")\n",
    "print(t)"
   ]
  },
  {
   "cell_type": "code",
   "execution_count": 38,
   "id": "3a41951b",
   "metadata": {},
   "outputs": [
    {
     "name": "stdout",
     "output_type": "stream",
     "text": [
      "{'name': ('ramu', 'suresh', 'tejaswini'), 'age': 20, 'sal': (67.8, 90.0, 90.0), 'no': 'yamini', 'tr': None}\n",
      "{'name': ('ramu', 'suresh', 'tejaswini'), 'age': 20, 'sal': (67.8, 90.0, 90.0), 'no': 'yamini', 'tr': 45}\n"
     ]
    }
   ],
   "source": [
    "print(t)\n",
    "t.update({\"tr\":45})\n",
    "print(t)"
   ]
  },
  {
   "cell_type": "code",
   "execution_count": 42,
   "id": "f59971be",
   "metadata": {},
   "outputs": [
    {
     "name": "stdout",
     "output_type": "stream",
     "text": [
      "{'name': ('ramu', 'suresh', 'tejaswini'), 'age': 20, 'sal': (67.8, 90.0, 90.0), 'no': 'yamini', 'tr': 45}\n"
     ]
    }
   ],
   "source": [
    "print(t)"
   ]
  },
  {
   "cell_type": "code",
   "execution_count": 44,
   "id": "059a7ee6",
   "metadata": {},
   "outputs": [
    {
     "name": "stdout",
     "output_type": "stream",
     "text": [
      "{'name': ('ramu', 'suresh', 'tejaswini'), 'age': 20, 'sal': (67.8, 90.0, 90.0), 'no': 'yamini', 'tr': 45}\n",
      "20\n",
      "{'name': ('ramu', 'suresh', 'tejaswini'), 'sal': (67.8, 90.0, 90.0), 'no': 'yamini', 'tr': 45}\n"
     ]
    }
   ],
   "source": [
    "print(t)\n",
    "print(t.pop(\"age\"))\n",
    "print(t)"
   ]
  },
  {
   "cell_type": "code",
   "execution_count": 45,
   "id": "4cd70f24",
   "metadata": {},
   "outputs": [
    {
     "name": "stdout",
     "output_type": "stream",
     "text": [
      "{'name': ('ramu', 'suresh', 'tejaswini'), 'sal': (67.8, 90.0, 90.0), 'no': 'yamini', 'tr': 45}\n",
      "('tr', 45)\n",
      "{'name': ('ramu', 'suresh', 'tejaswini'), 'sal': (67.8, 90.0, 90.0), 'no': 'yamini'}\n"
     ]
    }
   ],
   "source": [
    "print(t)\n",
    "print(t.popitem())\n",
    "print(t)"
   ]
  },
  {
   "cell_type": "code",
   "execution_count": 46,
   "id": "6760d0ed",
   "metadata": {},
   "outputs": [
    {
     "name": "stdout",
     "output_type": "stream",
     "text": [
      "['name', 'age', 'sal']\n",
      "[12, 45, 78, 98, 45]\n",
      "{'name': 34, 'donar': 45}\n",
      "['name', 'age', 'sal']\n",
      "[12, 45, 78, 98, 45]\n"
     ]
    }
   ],
   "source": [
    "q=[\"name\",\"age\",\"sal\"]\n",
    "w=[12,45,78,98,45]\n",
    "print(q)\n",
    "print(w)\n",
    "f={\"name\":34,\"donar\":45}\n",
    "f.fromkeys(q)\n",
    "f.fromkeys(w)\n",
    "print(f)\n",
    "print(q)\n",
    "print(w)"
   ]
  },
  {
   "cell_type": "code",
   "execution_count": 48,
   "id": "c301c645",
   "metadata": {},
   "outputs": [
    {
     "name": "stdout",
     "output_type": "stream",
     "text": [
      "{'name': 45, 'age': 45, 'sal': 45}\n"
     ]
    }
   ],
   "source": [
    "t={\"name\":\"ramu\",\"sno\":1}\n",
    "t1={}\n",
    "t1=t.fromkeys(q,45)\n",
    "print(t1)"
   ]
  },
  {
   "cell_type": "code",
   "execution_count": null,
   "id": "cc0042c1",
   "metadata": {},
   "outputs": [],
   "source": [
    "q=[\"name\",\"age\",\"\"]"
   ]
  },
  {
   "cell_type": "code",
   "execution_count": 50,
   "id": "16eb3543",
   "metadata": {},
   "outputs": [
    {
     "name": "stdout",
     "output_type": "stream",
     "text": [
      "{'maths': [0, 45], 'python': [0, 45], 'c++': [0, 45]}\n"
     ]
    }
   ],
   "source": [
    "marks={}.fromkeys([\"maths\",\"python\",\"c++\"],[0,45])\n",
    "print(marks)"
   ]
  },
  {
   "cell_type": "code",
   "execution_count": null,
   "id": "20e0742f",
   "metadata": {},
   "outputs": [],
   "source": [
    "contact application:\n",
    "    1.enter new record\n",
    "    2.display all records\n",
    "    3.update record\n",
    "    4.delete record\n",
    "1. ramu->not exists\n",
    "    mobile number->xxxxxxxxx\n",
    "2. name      mobile number\n",
    "   ramu      xxxxxxxxxxxx\n",
    "   rajesh    xxxxxxxxxxx\n",
    "3.ramu->exist\n",
    "mobile  number->xxxxxxxxx\n",
    "user doesnot exist\n",
    "4. ramu->exit\n",
    "   user deleted successfully\n",
    "    user doesnot exist\n",
    "\n",
    "\n"
   ]
  },
  {
   "cell_type": "code",
   "execution_count": null,
   "id": "0544c1c2",
   "metadata": {},
   "outputs": [],
   "source": []
  }
 ],
 "metadata": {
  "kernelspec": {
   "display_name": "Python 3",
   "language": "python",
   "name": "python3"
  },
  "language_info": {
   "codemirror_mode": {
    "name": "ipython",
    "version": 3
   },
   "file_extension": ".py",
   "mimetype": "text/x-python",
   "name": "python",
   "nbconvert_exporter": "python",
   "pygments_lexer": "ipython3",
   "version": "3.9.5"
  }
 },
 "nbformat": 4,
 "nbformat_minor": 5
}
