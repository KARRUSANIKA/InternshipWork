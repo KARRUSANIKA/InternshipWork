{
 "cells": [
  {
   "cell_type": "markdown",
   "id": "0a8775fd",
   "metadata": {},
   "source": [
    "       Input:10\n",
    "      Output:19kq1a0522\n",
    "             ||||||||||\n",
    "             19kq1a0522\n",
    "       "
   ]
  },
  {
   "cell_type": "code",
   "execution_count": 5,
   "id": "cb732226",
   "metadata": {},
   "outputs": [
    {
     "name": "stdout",
     "output_type": "stream",
     "text": [
      "11\n",
      "19kq1a0500\n",
      "19kq1a0501\n",
      "19kq1a0502\n",
      "19kq1a0503\n",
      "19kq1a0504\n",
      "19kq1a0505\n",
      "19kq1a0506\n",
      "19kq1a0507\n",
      "19kq1a0508\n",
      "19kq1a0509\n",
      "19kq1a0510\n"
     ]
    }
   ],
   "source": [
    "n=int(input())\n",
    "for i in range(n):\n",
    "    print(\"19kq1a05{:02}\".format(i))"
   ]
  },
  {
   "cell_type": "code",
   "execution_count": 12,
   "id": "908eef98",
   "metadata": {},
   "outputs": [
    {
     "name": "stdout",
     "output_type": "stream",
     "text": [
      "1\n",
      "10\n",
      "2\n",
      "19kq1a0501\n",
      "19kq1a0503\n",
      "19kq1a0505\n",
      "19kq1a0507\n",
      "19kq1a0509\n"
     ]
    }
   ],
   "source": [
    "n=int(input())\n",
    "m=int(input())\n",
    "s=int(input())\n",
    "for i in range(n,m,s):\n",
    "    print(\"19kq1a05{:02}\".format(i))"
   ]
  },
  {
   "cell_type": "code",
   "execution_count": 13,
   "id": "987e5ca3",
   "metadata": {},
   "outputs": [
    {
     "name": "stdout",
     "output_type": "stream",
     "text": [
      "1\n",
      "10\n",
      "2\n",
      "19kq1a0501\n",
      "19kq1a0503\n",
      "19kq1a0505\n",
      "19kq1a0507\n",
      "19kq1a0509\n"
     ]
    }
   ],
   "source": [
    "n=int(input())\n",
    "m=int(input())\n",
    "s=int(input())\n",
    "for i in range(n,m,s):\n",
    "    print(\"19kq1a05{:02}\".format(i))"
   ]
  },
  {
   "cell_type": "markdown",
   "id": "c374f334",
   "metadata": {},
   "source": [
    "## While-> Unknown ranges,Known ranges\n",
    "    syntax:\n",
    "      variable initialization\n",
    "      while(condition):\n",
    "      //stmt\n",
    "      //incr/decr\n"
   ]
  },
  {
   "cell_type": "code",
   "execution_count": 14,
   "id": "6cb04487",
   "metadata": {},
   "outputs": [
    {
     "name": "stdout",
     "output_type": "stream",
     "text": [
      "20\n",
      "20 19 18 17 16 15 14 13 12 11 "
     ]
    }
   ],
   "source": [
    "n=int(input())\n",
    "while n!=10:\n",
    "    print(n,end=\" \")\n",
    "    n=n-1"
   ]
  },
  {
   "cell_type": "code",
   "execution_count": 1,
   "id": "05467ee6",
   "metadata": {},
   "outputs": [
    {
     "name": "stdout",
     "output_type": "stream",
     "text": [
      "20\n",
      "10 11 12 13 14 15 16 17 18 19 "
     ]
    }
   ],
   "source": [
    "m=int(input())\n",
    "i=10\n",
    "while m!=i:\n",
    "    print(i,end=\" \")\n",
    "    i=i+1"
   ]
  },
  {
   "cell_type": "code",
   "execution_count": 2,
   "id": "87835de8",
   "metadata": {},
   "outputs": [
    {
     "ename": "SyntaxError",
     "evalue": "invalid syntax (<ipython-input-2-badf80883713>, line 2)",
     "output_type": "error",
     "traceback": [
      "\u001b[1;36m  File \u001b[1;32m\"<ipython-input-2-badf80883713>\"\u001b[1;36m, line \u001b[1;32m2\u001b[0m\n\u001b[1;33m    Given number is:1259\u001b[0m\n\u001b[1;37m          ^\u001b[0m\n\u001b[1;31mSyntaxError\u001b[0m\u001b[1;31m:\u001b[0m invalid syntax\n"
     ]
    }
   ],
   "source": [
    "n = 1259\n",
    "Given number is:1259\n",
    "reverse of a number is:9521\n",
    "Given number is 1259 and its reverse is 9521    "
   ]
  },
  {
   "cell_type": "code",
   "execution_count": 5,
   "id": "4ea21063",
   "metadata": {},
   "outputs": [
    {
     "name": "stdout",
     "output_type": "stream",
     "text": [
      "1289\n",
      "Given number is: 1289\n",
      "Rverse of a number is: 9821\n",
      "Given number is 1289 and its reverse is: 9821\n"
     ]
    }
   ],
   "source": [
    "n=int(input())\n",
    "r=0\n",
    "p=n\n",
    "while n!=0:\n",
    "    r=r*10+n%10\n",
    "    n//=10\n",
    "print(\"Given number is: {}\\nRverse of a number is: {}\\nGiven number is {} and its reverse is: {}\".format(p,r,p,r))\n",
    "\n",
    "    \n"
   ]
  },
  {
   "cell_type": "markdown",
   "id": "569d18a9",
   "metadata": {},
   "source": [
    "## Jumping Statements:\n",
    "      - break -> exit\n",
    "      - continue ->skip\n",
    "      - pass ->skip nothing will be printed\n",
    "      - return -> values to be sent for functions"
   ]
  },
  {
   "cell_type": "code",
   "execution_count": 6,
   "id": "3c327be4",
   "metadata": {},
   "outputs": [
    {
     "name": "stdout",
     "output_type": "stream",
     "text": [
      "10\n",
      "0,1,2,3,4,5,6,7,8,9,10,"
     ]
    }
   ],
   "source": [
    "n=int(input())\n",
    "for k in range(n+1):\n",
    "    print(k,end=\",\")"
   ]
  },
  {
   "cell_type": "code",
   "execution_count": 7,
   "id": "a8f397cf",
   "metadata": {},
   "outputs": [
    {
     "name": "stdout",
     "output_type": "stream",
     "text": [
      "100\n",
      "0 1 2 3 4 \n",
      " 5\n"
     ]
    }
   ],
   "source": [
    "n=int(input())\n",
    "for h in range(n):\n",
    "    if h==5:\n",
    "        break\n",
    "    else:\n",
    "        print(h,end=\" \")\n",
    "print(\"\\n\",h)        \n",
    "        "
   ]
  },
  {
   "cell_type": "code",
   "execution_count": 8,
   "id": "800bce30",
   "metadata": {},
   "outputs": [
    {
     "name": "stdout",
     "output_type": "stream",
     "text": [
      "7\n",
      "0 1 2 3 4 6 \n",
      " 6\n"
     ]
    }
   ],
   "source": [
    "n=int(input())\n",
    "for h in range(n):\n",
    "    if h==5:\n",
    "        continue\n",
    "    else:\n",
    "        print(h,end=\" \")\n",
    "print(\"\\n\",h)        \n",
    "        "
   ]
  },
  {
   "cell_type": "code",
   "execution_count": 10,
   "id": "892640a7",
   "metadata": {},
   "outputs": [
    {
     "name": "stdout",
     "output_type": "stream",
     "text": [
      "20\n",
      "0,1,2,3,4,5,6,7,8,9,11,12,13,14,15,16,17,18,19,"
     ]
    }
   ],
   "source": [
    "n=int(input())\n",
    "for i in range(n):\n",
    "    if i==10:\n",
    "        pass\n",
    "    else:\n",
    "        print(i,end=\",\")"
   ]
  },
  {
   "cell_type": "code",
   "execution_count": 12,
   "id": "86b8bfdc",
   "metadata": {},
   "outputs": [
    {
     "name": "stdout",
     "output_type": "stream",
     "text": [
      "h\n",
      "l\n",
      "l\n",
      "o\n"
     ]
    }
   ],
   "source": [
    "for i in 'hello':\n",
    "    if(i=='e'):\n",
    "        continue\n",
    "    print(i)"
   ]
  },
  {
   "cell_type": "markdown",
   "id": "eaaefdf7",
   "metadata": {},
   "source": [
    "## Inner Loops:\n",
    "    - loop within a loop\n",
    "    syntax:\n",
    "          for i in range():\n",
    "              for j in range():\n",
    "                if(condition-n):\n",
    "                  //stmts\n",
    "                 else:\n",
    "                  //stmts\n",
    "               print(\"\\n   "
   ]
  },
  {
   "cell_type": "markdown",
   "id": "af0f3aae",
   "metadata": {},
   "source": [
    "1 - 31\n",
    "r - 5\n",
    "c - 7\n",
    "\n",
    "    step-1\n",
    "          01 02 03 04 05 06 07\n",
    "          08 09 10 11 12 13 14\n",
    "          15 16 17 18 19 20 21\n",
    "          22 23 24 25 26 27 28\n",
    "          29 30 31"
   ]
  },
  {
   "cell_type": "code",
   "execution_count": 19,
   "id": "b9c97b53",
   "metadata": {},
   "outputs": [
    {
     "name": "stdout",
     "output_type": "stream",
     "text": [
      "01 02 03 04 05 06 07 \n",
      "08 09 10 11 12 13 14 \n",
      "15 16 17 18 19 20 21 \n",
      "22 23 24 25 26 27 28 \n",
      "29 30 31 \n"
     ]
    }
   ],
   "source": [
    "a=1\n",
    "for i in range(1,6):\n",
    "    for j in range(1,8):\n",
    "        if a<=31:\n",
    "            print(\"{:02}\".format(a),end=\" \")\n",
    "        else:\n",
    "            break\n",
    "        a+=1\n",
    "    print(end=\"\\n\")   \n"
   ]
  },
  {
   "cell_type": "code",
   "execution_count": 20,
   "id": "328268ba",
   "metadata": {},
   "outputs": [
    {
     "name": "stdout",
     "output_type": "stream",
     "text": [
      "01 ** 03 ** 05 ** 07 \n",
      "** 09 ** 11 ** 13 ** \n",
      "15 ** 17 ** 19 ** 21 \n",
      "** 23 ** 25 ** 27 ** \n",
      "29 ** 31 \n"
     ]
    }
   ],
   "source": [
    "a=1\n",
    "for i in range(1,6):\n",
    "    for j in range(1,8):\n",
    "        if a<=31:\n",
    "            if a%2==0:\n",
    "                print(\"**\",end=\" \")\n",
    "            else:   \n",
    "                print(\"{:02}\".format(a),end=\" \")\n",
    "        else:\n",
    "            break\n",
    "        a+=1\n",
    "    print(end=\"\\n\")  "
   ]
  },
  {
   "cell_type": "code",
   "execution_count": 23,
   "id": "2a2ccf9d",
   "metadata": {},
   "outputs": [
    {
     "name": "stdout",
     "output_type": "stream",
     "text": [
      "01 ** 03 ** ## ** 07 \n",
      "** 09 ## 11 ** 13 ** \n",
      "## ** 17 ** 19 ## 21 \n",
      "** 23 ** ## ** 27 ** \n",
      "29 ## 31 \n"
     ]
    }
   ],
   "source": [
    "a=1\n",
    "for i in range(1,6):\n",
    "    for j in range(1,8):\n",
    "        if a<=31:\n",
    "            if a%5==0:\n",
    "                print(\"##\",end=\" \")\n",
    "            elif a%2==0:\n",
    "                print(\"**\",end=\" \")\n",
    "            else:   \n",
    "                print(\"{:02}\".format(a),end=\" \")\n",
    "        else:\n",
    "            break\n",
    "        a+=1\n",
    "    print(end=\"\\n\")"
   ]
  },
  {
   "cell_type": "code",
   "execution_count": 22,
   "id": "e424cb95",
   "metadata": {},
   "outputs": [
    {
     "name": "stdout",
     "output_type": "stream",
     "text": [
      "** 02 ** 04 ** 06 ** \n",
      "08 ** 10 ** 12 ** 14 \n",
      "** 16 ** 18 ** 20 ** \n",
      "22 ** 24 ** 26 ** 28 \n",
      "** 30 ** \n"
     ]
    }
   ],
   "source": [
    "a=1\n",
    "for i in range(1,6):\n",
    "    for j in range(1,8):\n",
    "        if a<=31:\n",
    "            if a%2!=0:\n",
    "                print(\"**\",end=\" \")\n",
    "            else:   \n",
    "                print(\"{:02}\".format(a),end=\" \")\n",
    "        else:\n",
    "            break\n",
    "        a+=1\n",
    "    print(end=\"\\n\")"
   ]
  },
  {
   "cell_type": "code",
   "execution_count": 32,
   "id": "be83c881",
   "metadata": {},
   "outputs": [
    {
     "name": "stdout",
     "output_type": "stream",
     "text": [
      "[] ** || ** ## ** [] \n",
      "&& && && && && && && \n",
      "## ** || ** [] ## () \n",
      "** [] || ## ** () ** \n",
      "[] ## || \n"
     ]
    }
   ],
   "source": [
    "a=1\n",
    "for i in range(1,6):\n",
    "    for j in range(1,8):\n",
    "        if i ==2:\n",
    "            print(\"&&\",end=\" \")\n",
    "        elif j ==3:\n",
    "            print(\"||\",end=\" \")\n",
    "        elif a<=31:\n",
    "            if a%5==0:\n",
    "                print(\"##\",end=\" \")\n",
    "            elif a%2==0:\n",
    "                print(\"**\",end=\" \")\n",
    "            elif a%3==0:\n",
    "                print(\"()\",end=\" \")  \n",
    "            else:   \n",
    "                print(\"[]\",end=\" \")\n",
    "        else:\n",
    "            break\n",
    "        a+=1\n",
    "    print(end=\"\\n\")"
   ]
  },
  {
   "cell_type": "code",
   "execution_count": null,
   "id": "ba991ac9",
   "metadata": {},
   "outputs": [],
   "source": []
  }
 ],
 "metadata": {
  "kernelspec": {
   "display_name": "Python 3",
   "language": "python",
   "name": "python3"
  },
  "language_info": {
   "codemirror_mode": {
    "name": "ipython",
    "version": 3
   },
   "file_extension": ".py",
   "mimetype": "text/x-python",
   "name": "python",
   "nbconvert_exporter": "python",
   "pygments_lexer": "ipython3",
   "version": "3.9.5"
  }
 },
 "nbformat": 4,
 "nbformat_minor": 5
}
