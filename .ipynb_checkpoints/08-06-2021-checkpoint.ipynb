{
 "cells": [
  {
   "cell_type": "markdown",
   "id": "3746d0e9",
   "metadata": {},
   "source": [
    "## Oops\n",
    "    - class\n",
    "    - object\n",
    "    - method \n",
    "    - constructor\n",
    "    - packages and modules byy using class\n",
    "    - inheritance"
   ]
  },
  {
   "cell_type": "markdown",
   "id": "e81879f5",
   "metadata": {},
   "source": [
    "## Class:\n",
    "     - class is a collection of variable and methods\n",
    "###  Rules to define class\n",
    "      - should not start with number\n",
    "      - not to use keywords\n"
   ]
  },
  {
   "cell_type": "code",
   "execution_count": 1,
   "id": "2a45e537",
   "metadata": {},
   "outputs": [],
   "source": [
    "class Hi:\n",
    "    name,rollno=\"APSSDC\",522\n",
    "    def msg():\n",
    "        print(\"hi all,iam from msg()\")"
   ]
  },
  {
   "cell_type": "code",
   "execution_count": 2,
   "id": "95a1479d",
   "metadata": {},
   "outputs": [
    {
     "data": {
      "text/plain": [
       "'APSSDC'"
      ]
     },
     "execution_count": 2,
     "metadata": {},
     "output_type": "execute_result"
    }
   ],
   "source": [
    "Hi.name"
   ]
  },
  {
   "cell_type": "code",
   "execution_count": 3,
   "id": "45e167b4",
   "metadata": {},
   "outputs": [
    {
     "data": {
      "text/plain": [
       "522"
      ]
     },
     "execution_count": 3,
     "metadata": {},
     "output_type": "execute_result"
    }
   ],
   "source": [
    "Hi.rollno"
   ]
  },
  {
   "cell_type": "code",
   "execution_count": 4,
   "id": "d4454e40",
   "metadata": {},
   "outputs": [
    {
     "name": "stdout",
     "output_type": "stream",
     "text": [
      "hi all,iam from msg()\n"
     ]
    }
   ],
   "source": [
    "Hi.msg()"
   ]
  },
  {
   "cell_type": "code",
   "execution_count": 6,
   "id": "9c7f2663",
   "metadata": {},
   "outputs": [
    {
     "name": "stdout",
     "output_type": "stream",
     "text": [
      "<function msg at 0x0000025B9AB9B310>\n"
     ]
    }
   ],
   "source": [
    " def msg():\n",
    "        print(\"hi all,iam from msg()\")\n",
    "print(msg)"
   ]
  },
  {
   "cell_type": "code",
   "execution_count": 7,
   "id": "096658a1",
   "metadata": {},
   "outputs": [],
   "source": [
    "obj=Hi"
   ]
  },
  {
   "cell_type": "code",
   "execution_count": 8,
   "id": "28343fc5",
   "metadata": {},
   "outputs": [
    {
     "data": {
      "text/plain": [
       "'APSSDC'"
      ]
     },
     "execution_count": 8,
     "metadata": {},
     "output_type": "execute_result"
    }
   ],
   "source": [
    "obj.name"
   ]
  },
  {
   "cell_type": "code",
   "execution_count": 9,
   "id": "03bd4ae8",
   "metadata": {},
   "outputs": [
    {
     "name": "stdout",
     "output_type": "stream",
     "text": [
      "hi all,iam from msg()\n"
     ]
    }
   ],
   "source": [
    "obj.msg()"
   ]
  },
  {
   "cell_type": "code",
   "execution_count": 10,
   "id": "aa2cebcd",
   "metadata": {},
   "outputs": [],
   "source": [
    "class Calsi:\n",
    "    def add(n1,n2):\n",
    "        return n1+n2\n",
    "    def sub(n1,n2):\n",
    "        return n1-n2\n",
    "    def mul(n1,n2):\n",
    "        return n1*n2\n",
    "    def div(n1,n2):\n",
    "        return n1/n2\n",
    "    def \n",
    "    \n",
    "    "
   ]
  },
  {
   "cell_type": "code",
   "execution_count": 11,
   "id": "5718909c",
   "metadata": {},
   "outputs": [
    {
     "data": {
      "text/plain": [
       "45"
      ]
     },
     "execution_count": 11,
     "metadata": {},
     "output_type": "execute_result"
    }
   ],
   "source": [
    "cal=Calsi\n",
    "cal.add(22,23)"
   ]
  },
  {
   "cell_type": "code",
   "execution_count": 12,
   "id": "062a618a",
   "metadata": {},
   "outputs": [
    {
     "data": {
      "text/plain": [
       "17"
      ]
     },
     "execution_count": 12,
     "metadata": {},
     "output_type": "execute_result"
    }
   ],
   "source": [
    "cal.add(9,8)"
   ]
  },
  {
   "cell_type": "markdown",
   "id": "77b61ca6",
   "metadata": {},
   "source": [
    "### Constructor:\n",
    "     - is is a special method in python i.e,__init()__\n",
    "     - it eill execute while creating object\n",
    "     - we have 2 different types of constructors\n",
    "            - default\n",
    "            - parameterized"
   ]
  },
  {
   "cell_type": "code",
   "execution_count": 6,
   "id": "33e8e6ae",
   "metadata": {},
   "outputs": [],
   "source": [
    "class Hello:\n",
    "    def __init__(self):\n",
    "        print(\"hi iam default constructor\")"
   ]
  },
  {
   "cell_type": "code",
   "execution_count": 7,
   "id": "e1f0350b",
   "metadata": {},
   "outputs": [
    {
     "name": "stdout",
     "output_type": "stream",
     "text": [
      "hi iam default constructor\n"
     ]
    }
   ],
   "source": [
    "obj=Hello()"
   ]
  },
  {
   "cell_type": "code",
   "execution_count": 40,
   "id": "63ff2bab",
   "metadata": {},
   "outputs": [],
   "source": [
    "class Hello1:\n",
    "    def __init__(fles,val1,val2):\n",
    "        fles.val1=val1\n",
    "        fles.val2=val2\n",
    "    def show(fles):\n",
    "        print(fles.val1,fles.val2fles.val3,fles.val4)\n",
    "    def add(fles):\n",
    "        return fles.val1+fles.val2\n",
    "    def profile(fles,val3,val4):\n",
    "        fles.val3=val3\n",
    "        fles.val4=val4\n",
    "        \n",
    "    "
   ]
  },
  {
   "cell_type": "code",
   "execution_count": 41,
   "id": "c5cd0b15",
   "metadata": {
    "scrolled": true
   },
   "outputs": [],
   "source": [
    "obj=Hello1(4,5)"
   ]
  },
  {
   "cell_type": "code",
   "execution_count": 44,
   "id": "708ffd76",
   "metadata": {},
   "outputs": [],
   "source": [
    "obj.profile(63,96)\n",
    "\n"
   ]
  },
  {
   "cell_type": "code",
   "execution_count": 45,
   "id": "33922c25",
   "metadata": {},
   "outputs": [
    {
     "ename": "AttributeError",
     "evalue": "'Hello1' object has no attribute 'val2fles'",
     "output_type": "error",
     "traceback": [
      "\u001b[1;31m---------------------------------------------------------------------------\u001b[0m",
      "\u001b[1;31mAttributeError\u001b[0m                            Traceback (most recent call last)",
      "\u001b[1;32m<ipython-input-45-3a5b94642195>\u001b[0m in \u001b[0;36m<module>\u001b[1;34m\u001b[0m\n\u001b[1;32m----> 1\u001b[1;33m \u001b[0mobj\u001b[0m\u001b[1;33m.\u001b[0m\u001b[0mshow\u001b[0m\u001b[1;33m(\u001b[0m\u001b[1;33m)\u001b[0m\u001b[1;33m\u001b[0m\u001b[1;33m\u001b[0m\u001b[0m\n\u001b[0m",
      "\u001b[1;32m<ipython-input-40-78db24625180>\u001b[0m in \u001b[0;36mshow\u001b[1;34m(fles)\u001b[0m\n\u001b[0;32m      4\u001b[0m         \u001b[0mfles\u001b[0m\u001b[1;33m.\u001b[0m\u001b[0mval2\u001b[0m\u001b[1;33m=\u001b[0m\u001b[0mval2\u001b[0m\u001b[1;33m\u001b[0m\u001b[1;33m\u001b[0m\u001b[0m\n\u001b[0;32m      5\u001b[0m     \u001b[1;32mdef\u001b[0m \u001b[0mshow\u001b[0m\u001b[1;33m(\u001b[0m\u001b[0mfles\u001b[0m\u001b[1;33m)\u001b[0m\u001b[1;33m:\u001b[0m\u001b[1;33m\u001b[0m\u001b[1;33m\u001b[0m\u001b[0m\n\u001b[1;32m----> 6\u001b[1;33m         \u001b[0mprint\u001b[0m\u001b[1;33m(\u001b[0m\u001b[0mfles\u001b[0m\u001b[1;33m.\u001b[0m\u001b[0mval1\u001b[0m\u001b[1;33m,\u001b[0m\u001b[0mfles\u001b[0m\u001b[1;33m.\u001b[0m\u001b[0mval2fles\u001b[0m\u001b[1;33m.\u001b[0m\u001b[0mval3\u001b[0m\u001b[1;33m,\u001b[0m\u001b[0mfles\u001b[0m\u001b[1;33m.\u001b[0m\u001b[0mval4\u001b[0m\u001b[1;33m)\u001b[0m\u001b[1;33m\u001b[0m\u001b[1;33m\u001b[0m\u001b[0m\n\u001b[0m\u001b[0;32m      7\u001b[0m     \u001b[1;32mdef\u001b[0m \u001b[0madd\u001b[0m\u001b[1;33m(\u001b[0m\u001b[0mfles\u001b[0m\u001b[1;33m)\u001b[0m\u001b[1;33m:\u001b[0m\u001b[1;33m\u001b[0m\u001b[1;33m\u001b[0m\u001b[0m\n\u001b[0;32m      8\u001b[0m         \u001b[1;32mreturn\u001b[0m \u001b[0mfles\u001b[0m\u001b[1;33m.\u001b[0m\u001b[0mval1\u001b[0m\u001b[1;33m+\u001b[0m\u001b[0mfles\u001b[0m\u001b[1;33m.\u001b[0m\u001b[0mval2\u001b[0m\u001b[1;33m\u001b[0m\u001b[1;33m\u001b[0m\u001b[0m\n",
      "\u001b[1;31mAttributeError\u001b[0m: 'Hello1' object has no attribute 'val2fles'"
     ]
    }
   ],
   "source": [
    "obj.show()"
   ]
  },
  {
   "cell_type": "code",
   "execution_count": null,
   "id": "2da70ef3",
   "metadata": {},
   "outputs": [],
   "source": [
    "def add(a,b):\n",
    "    this.a=a\n",
    "    this.b=b"
   ]
  },
  {
   "cell_type": "code",
   "execution_count": 46,
   "id": "6066bfb9",
   "metadata": {},
   "outputs": [],
   "source": [
    "from PACKAGE import mylogics "
   ]
  },
  {
   "cell_type": "code",
   "execution_count": null,
   "id": "35ff5d2e",
   "metadata": {
    "collapsed": true
   },
   "outputs": [],
   "source": []
  }
 ],
 "metadata": {
  "kernelspec": {
   "display_name": "Python 3",
   "language": "python",
   "name": "python3"
  },
  "language_info": {
   "codemirror_mode": {
    "name": "ipython",
    "version": 3
   },
   "file_extension": ".py",
   "mimetype": "text/x-python",
   "name": "python",
   "nbconvert_exporter": "python",
   "pygments_lexer": "ipython3",
   "version": "3.9.5"
  }
 },
 "nbformat": 4,
 "nbformat_minor": 5
}
