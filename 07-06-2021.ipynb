{
 "cells": [
  {
   "cell_type": "markdown",
   "id": "8fa403b8",
   "metadata": {},
   "source": [
    "# Packages and Modules:"
   ]
  },
  {
   "cell_type": "markdown",
   "id": "c6333858",
   "metadata": {},
   "source": [
    "## PacIFkage:\n",
    "     - Folder - no of files or no of folder\n",
    "     - package=>folder\n",
    "              ->Number of folders or files\n",
    "              ->collection of modules\n",
    "     - Module ->Files[.py]\n",
    "              =>collection of class,methods,functions,variables"
   ]
  },
  {
   "cell_type": "code",
   "execution_count": null,
   "id": "183beaad",
   "metadata": {},
   "outputs": [],
   "source": [
    "Example:\n",
    "    college->package\n",
    "        cse=>sub packages\n",
    "           ->first.py\n",
    "            ->second.py\n",
    "            ->third.py\n",
    "        ece\n",
    "        eee\n",
    "        mech\n",
    "        civil\n",
    "        "
   ]
  },
  {
   "cell_type": "code",
   "execution_count": 1,
   "id": "c20d14e2",
   "metadata": {},
   "outputs": [],
   "source": [
    "import math"
   ]
  },
  {
   "cell_type": "code",
   "execution_count": 2,
   "id": "5dfa9f90",
   "metadata": {},
   "outputs": [
    {
     "name": "stdout",
     "output_type": "stream",
     "text": [
      "['__doc__', '__loader__', '__name__', '__package__', '__spec__', 'acos', 'acosh', 'asin', 'asinh', 'atan', 'atan2', 'atanh', 'ceil', 'comb', 'copysign', 'cos', 'cosh', 'degrees', 'dist', 'e', 'erf', 'erfc', 'exp', 'expm1', 'fabs', 'factorial', 'floor', 'fmod', 'frexp', 'fsum', 'gamma', 'gcd', 'hypot', 'inf', 'isclose', 'isfinite', 'isinf', 'isnan', 'isqrt', 'lcm', 'ldexp', 'lgamma', 'log', 'log10', 'log1p', 'log2', 'modf', 'nan', 'nextafter', 'perm', 'pi', 'pow', 'prod', 'radians', 'remainder', 'sin', 'sinh', 'sqrt', 'tan', 'tanh', 'tau', 'trunc', 'ulp']\n"
     ]
    }
   ],
   "source": [
    "print(dir(math))"
   ]
  },
  {
   "cell_type": "markdown",
   "id": "7d01e815",
   "metadata": {},
   "source": []
  },
  {
   "cell_type": "code",
   "execution_count": 3,
   "id": "909ef9dd",
   "metadata": {},
   "outputs": [
    {
     "name": "stdout",
     "output_type": "stream",
     "text": [
      "93326215443944152681699238856266700490715968264381621468592963895217599993229915608941463976156518286253697920827223758251185210916864000000000000000000000000\n"
     ]
    }
   ],
   "source": [
    "print(math.factorial(100))"
   ]
  },
  {
   "cell_type": "code",
   "execution_count": 4,
   "id": "2cae95ec",
   "metadata": {},
   "outputs": [],
   "source": [
    "import sample"
   ]
  },
  {
   "cell_type": "code",
   "execution_count": 5,
   "id": "296972d4",
   "metadata": {},
   "outputs": [
    {
     "name": "stdout",
     "output_type": "stream",
     "text": [
      "['__builtins__', '__cached__', '__doc__', '__file__', '__loader__', '__name__', '__package__', '__spec__', 'a']\n"
     ]
    }
   ],
   "source": [
    "print(dir(sample))"
   ]
  },
  {
   "cell_type": "code",
   "execution_count": 6,
   "id": "5641b283",
   "metadata": {},
   "outputs": [
    {
     "name": "stdout",
     "output_type": "stream",
     "text": [
      "200\n"
     ]
    }
   ],
   "source": [
    "print(sample.a)"
   ]
  },
  {
   "cell_type": "code",
   "execution_count": 7,
   "id": "130bd936",
   "metadata": {},
   "outputs": [
    {
     "name": "stdout",
     "output_type": "stream",
     "text": [
      "['__builtins__', '__cached__', '__doc__', '__file__', '__loader__', '__name__', '__package__', '__spec__']\n"
     ]
    }
   ],
   "source": [
    "print(dir(sample))"
   ]
  },
  {
   "cell_type": "code",
   "execution_count": 7,
   "id": "62ba0c1d",
   "metadata": {},
   "outputs": [
    {
     "name": "stdout",
     "output_type": "stream",
     "text": [
      "200\n"
     ]
    }
   ],
   "source": [
    "print(sample.a)"
   ]
  },
  {
   "cell_type": "code",
   "execution_count": 9,
   "id": "0708fa91",
   "metadata": {},
   "outputs": [
    {
     "name": "stdout",
     "output_type": "stream",
     "text": [
      "['__builtins__', '__cached__', '__doc__', '__file__', '__loader__', '__name__', '__package__', '__spec__']\n"
     ]
    }
   ],
   "source": [
    "print(dir(sample))"
   ]
  },
  {
   "cell_type": "code",
   "execution_count": 8,
   "id": "ed3b4317",
   "metadata": {},
   "outputs": [
    {
     "name": "stdout",
     "output_type": "stream",
     "text": [
      "200\n"
     ]
    }
   ],
   "source": [
    "print(sample.a)"
   ]
  },
  {
   "cell_type": "code",
   "execution_count": 1,
   "id": "2aade610",
   "metadata": {},
   "outputs": [],
   "source": [
    "import first\n"
   ]
  },
  {
   "cell_type": "code",
   "execution_count": 2,
   "id": "dc976e8b",
   "metadata": {},
   "outputs": [
    {
     "name": "stdout",
     "output_type": "stream",
     "text": [
      "['__builtins__', '__cached__', '__doc__', '__file__', '__loader__', '__name__', '__package__', '__spec__', 'h', 'n']\n"
     ]
    }
   ],
   "source": [
    "print(dir(first))"
   ]
  },
  {
   "cell_type": "code",
   "execution_count": 4,
   "id": "97c7155c",
   "metadata": {},
   "outputs": [
    {
     "name": "stdout",
     "output_type": "stream",
     "text": [
      "hello\n",
      "hi welcome\n"
     ]
    }
   ],
   "source": [
    "print(first.h)\n",
    "print(first.n)"
   ]
  },
  {
   "cell_type": "code",
   "execution_count": 5,
   "id": "4462f3dc",
   "metadata": {},
   "outputs": [],
   "source": [
    "from APSSDC import demo"
   ]
  },
  {
   "cell_type": "code",
   "execution_count": 6,
   "id": "1040526b",
   "metadata": {},
   "outputs": [
    {
     "name": "stdout",
     "output_type": "stream",
     "text": [
      "['__builtins__', '__cached__', '__doc__', '__file__', '__loader__', '__name__', '__package__', '__spec__', 'a', 'p', 'z']\n"
     ]
    }
   ],
   "source": [
    "print(dir(demo))"
   ]
  },
  {
   "cell_type": "code",
   "execution_count": 7,
   "id": "8cdc7f9c",
   "metadata": {},
   "outputs": [
    {
     "name": "stdout",
     "output_type": "stream",
     "text": [
      "20 2000 ramesh\n"
     ]
    }
   ],
   "source": [
    "print(demo.a,demo.p,demo.z)"
   ]
  },
  {
   "cell_type": "code",
   "execution_count": 8,
   "id": "0586e8ec",
   "metadata": {},
   "outputs": [],
   "source": [
    "from APSSDC import *"
   ]
  },
  {
   "cell_type": "code",
   "execution_count": 2,
   "id": "a58a2cdf",
   "metadata": {},
   "outputs": [
    {
     "ename": "NameError",
     "evalue": "name 'demo' is not defined",
     "output_type": "error",
     "traceback": [
      "\u001b[1;31m---------------------------------------------------------------------------\u001b[0m",
      "\u001b[1;31mNameError\u001b[0m                                 Traceback (most recent call last)",
      "\u001b[1;32m<ipython-input-2-6ac5d39871a9>\u001b[0m in \u001b[0;36m<module>\u001b[1;34m\u001b[0m\n\u001b[1;32m----> 1\u001b[1;33m \u001b[0mprint\u001b[0m\u001b[1;33m(\u001b[0m\u001b[0mdemo\u001b[0m\u001b[1;33m.\u001b[0m\u001b[0mp\u001b[0m\u001b[1;33m,\u001b[0m\u001b[0mprasad\u001b[0m\u001b[1;33m.\u001b[0m\u001b[0mname\u001b[0m\u001b[1;33m)\u001b[0m\u001b[1;33m\u001b[0m\u001b[1;33m\u001b[0m\u001b[0m\n\u001b[0m",
      "\u001b[1;31mNameError\u001b[0m: name 'demo' is not defined"
     ]
    }
   ],
   "source": [
    "print(demo.p,prasad.name)"
   ]
  },
  {
   "cell_type": "code",
   "execution_count": 3,
   "id": "3de6f71b",
   "metadata": {},
   "outputs": [],
   "source": [
    "from APSSDC import demo,prasad"
   ]
  },
  {
   "cell_type": "code",
   "execution_count": 4,
   "id": "06ac23e9",
   "metadata": {},
   "outputs": [
    {
     "name": "stdout",
     "output_type": "stream",
     "text": [
      "2000 prasad\n"
     ]
    }
   ],
   "source": [
    "print(demo.p,prasad.name)"
   ]
  },
  {
   "cell_type": "code",
   "execution_count": 5,
   "id": "9cddabdb",
   "metadata": {},
   "outputs": [],
   "source": [
    "from APSSDC.demo import a"
   ]
  },
  {
   "cell_type": "code",
   "execution_count": 6,
   "id": "fc0a6a26",
   "metadata": {},
   "outputs": [
    {
     "name": "stdout",
     "output_type": "stream",
     "text": [
      "20\n"
     ]
    }
   ],
   "source": [
    "print(a)"
   ]
  },
  {
   "cell_type": "code",
   "execution_count": 9,
   "id": "c6833113",
   "metadata": {},
   "outputs": [],
   "source": [
    "from APSSDC.CSE import first as c\n",
    "from APSSDC.ECE import first as e"
   ]
  },
  {
   "cell_type": "code",
   "execution_count": 10,
   "id": "baa9ebb4",
   "metadata": {},
   "outputs": [
    {
     "name": "stdout",
     "output_type": "stream",
     "text": [
      "['__builtins__', '__cached__', '__doc__', '__file__', '__loader__', '__name__', '__package__', '__spec__', 'm']\n"
     ]
    }
   ],
   "source": [
    "print(dir(first))"
   ]
  },
  {
   "cell_type": "code",
   "execution_count": 11,
   "id": "7948229d",
   "metadata": {},
   "outputs": [
    {
     "name": "stdout",
     "output_type": "stream",
     "text": [
      "['__builtins__', '__cached__', '__doc__', '__file__', '__loader__', '__name__', '__package__', '__spec__', 'm']\n"
     ]
    }
   ],
   "source": [
    "print(dir(c))"
   ]
  },
  {
   "cell_type": "code",
   "execution_count": 12,
   "id": "a89d2d53",
   "metadata": {},
   "outputs": [
    {
     "name": "stdout",
     "output_type": "stream",
     "text": [
      "['__builtins__', '__cached__', '__doc__', '__file__', '__loader__', '__name__', '__package__', '__spec__', 'q']\n"
     ]
    }
   ],
   "source": [
    "print(dir(e))"
   ]
  },
  {
   "cell_type": "code",
   "execution_count": 13,
   "id": "70ddbe2d",
   "metadata": {},
   "outputs": [
    {
     "name": "stdout",
     "output_type": "stream",
     "text": [
      "first year from cse\n",
      "first year from ece\n"
     ]
    }
   ],
   "source": [
    "print(c.m)\n",
    "print(e.q)"
   ]
  },
  {
   "cell_type": "code",
   "execution_count": 16,
   "id": "8d9867c2",
   "metadata": {},
   "outputs": [],
   "source": [
    "import os"
   ]
  },
  {
   "cell_type": "code",
   "execution_count": 17,
   "id": "7d1a29bc",
   "metadata": {
    "collapsed": true
   },
   "outputs": [
    {
     "name": "stdout",
     "output_type": "stream",
     "text": [
      "C:\\Users\\SHAIK.KARISHMA\\Desktop\\Public Internship Python\n"
     ]
    }
   ],
   "source": [
    "print(os.getcwd())"
   ]
  },
  {
   "cell_type": "code",
   "execution_count": 19,
   "id": "6eb5bea4",
   "metadata": {},
   "outputs": [],
   "source": [
    "from SDC import outer"
   ]
  },
  {
   "cell_type": "code",
   "execution_count": 20,
   "id": "5f1b698b",
   "metadata": {},
   "outputs": [],
   "source": [
    "os.chdir(\"c:\\\\Users\\\\SHAIK.KARISHMA\\\\Desktop\")"
   ]
  },
  {
   "cell_type": "code",
   "execution_count": 21,
   "id": "d216ee68",
   "metadata": {},
   "outputs": [
    {
     "name": "stdout",
     "output_type": "stream",
     "text": [
      "outer\n"
     ]
    }
   ],
   "source": [
    "print(outer.t)"
   ]
  },
  {
   "cell_type": "code",
   "execution_count": null,
   "id": "6239bcd2",
   "metadata": {},
   "outputs": [],
   "source": [
    "create a folder\n",
    "module name calsi.py\n",
    "arthematic operations\n",
    "add \n",
    "sub\n",
    "mul\n",
    "div\n",
    "12,3\n",
    "calsi.add()=>15=>Given numbers are 12 and 3 and its addition is:15\n",
    "from ....import....\n",
    "n=int(input())\n",
    "m=int(input())\n",
    "print(add(n,m))"
   ]
  },
  {
   "cell_type": "code",
   "execution_count": 2,
   "id": "ca0149c5",
   "metadata": {},
   "outputs": [
    {
     "name": "stdout",
     "output_type": "stream",
     "text": [
      "10\n",
      "Even numbers in a range is: [0, 2, 4, 6, 8, 10]\n"
     ]
    }
   ],
   "source": [
    "from APSSDC.demo1 import main\n",
    "y=int(input())\n",
    "print(\"Even numbers in a range is: {}\".format(main.even(y)))"
   ]
  },
  {
   "cell_type": "code",
   "execution_count": 3,
   "id": "665300f5",
   "metadata": {},
   "outputs": [
    {
     "name": "stdout",
     "output_type": "stream",
     "text": [
      "10\n",
      "Even numbers in a range is: [8, 10]\n"
     ]
    }
   ],
   "source": [
    "from APSSDC.demo1 import main\n",
    "y=int(input())\n",
    "h=main.even(y)\n",
    "print(\"Even numbers in a range is: {}\".format(h[-2:]))"
   ]
  },
  {
   "cell_type": "code",
   "execution_count": null,
   "id": "f41856ad",
   "metadata": {},
   "outputs": [],
   "source": []
  }
 ],
 "metadata": {
  "kernelspec": {
   "display_name": "Python 3",
   "language": "python",
   "name": "python3"
  },
  "language_info": {
   "codemirror_mode": {
    "name": "ipython",
    "version": 3
   },
   "file_extension": ".py",
   "mimetype": "text/x-python",
   "name": "python",
   "nbconvert_exporter": "python",
   "pygments_lexer": "ipython3",
   "version": "3.9.5"
  }
 },
 "nbformat": 4,
 "nbformat_minor": 5
}
