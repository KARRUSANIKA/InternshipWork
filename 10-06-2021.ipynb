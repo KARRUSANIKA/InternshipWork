{
 "cells": [
  {
   "cell_type": "markdown",
   "id": "aec7b431",
   "metadata": {},
   "source": [
    "## python version:\n",
    "     - python -V\n",
    "## pip version:\n",
    "      - pip --version\n",
    "## Django installations:\n",
    "      - pip insatll django[updated version]\n",
    "      - pip insatll django==version number\n",
    "## django version:\n",
    "     - django-admin --version\n",
    "     \n",
    "     -python[shell]\n",
    "     -import django\n",
    "     -django.get_version()\n",
    "## project creation:\n",
    "     - select your drive where to create your project\n",
    "     - creation of project\n",
    "     -django-admin startproject \"projectname\"\n",
    "     -django-admin startproject Firstproject \n",
    "      - Firstproject\n",
    "         =>Firstproject[admina pp]\n",
    "         =>manage.py[services]\n",
    "     \n",
    "## project execution:\n",
    "     - you need to navigate where the manage.py exists\n",
    "     - execution\n",
    "     - manage.py runserver\n",
    "     - python manage.py runserver\n",
    "     - by default the port number is 8000\n",
    "     - changing of port number to a server\n",
    "     - manage.py runserver 1234 [user defined port number]\n",
    "     - python manage.py runserver 1234\n",
    "     - in browser we need to pass the url as\n",
    "     =>http://127.0.0.1:8000\n",
    "     =>local sever=>127.0.0.1=>localhost\n",
    "     -localhost:8000\n",
    "     "
   ]
  },
  {
   "cell_type": "markdown",
   "id": "ed62b36c",
   "metadata": {},
   "source": [
    "## Firstproject[admin app]\n",
    "      - init->python interpreter to be considered as python file\n",
    "      - asgi->asynchronous gateway interface->web deployment\n",
    "      - wsgi->web socket gate way interface->web deployment\n",
    "      - settings->all configurations can be done here[app,database,mail,message]\n",
    "      - urls->u need to pass the url here to acess it"
   ]
  },
  {
   "cell_type": "markdown",
   "id": "b6216695",
   "metadata": {},
   "source": [
    "## Manage.py[sevices]\n",
    "      - startproject\n",
    "      - runserver\n",
    "      - startapp\n",
    "      - shell\n",
    "      - makemigrations\n",
    "      - migrate"
   ]
  },
  {
   "cell_type": "markdown",
   "id": "8e49185c",
   "metadata": {},
   "source": [
    "## user app creation:\n",
    "         =>to break server:ctrl+c\n",
    "         =>manage.py startapp \"appname\"\n",
    "         =>python          =>manage.py startapp \"appname\"\n"
   ]
  }
 ],
 "metadata": {
  "kernelspec": {
   "display_name": "Python 3",
   "language": "python",
   "name": "python3"
  },
  "language_info": {
   "codemirror_mode": {
    "name": "ipython",
    "version": 3
   },
   "file_extension": ".py",
   "mimetype": "text/x-python",
   "name": "python",
   "nbconvert_exporter": "python",
   "pygments_lexer": "ipython3",
   "version": "3.7.5"
  }
 },
 "nbformat": 4,
 "nbformat_minor": 5
}
