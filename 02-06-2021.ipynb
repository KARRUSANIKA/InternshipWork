{
 "cells": [
  {
   "cell_type": "markdown",
   "id": "7f7d68fb",
   "metadata": {},
   "source": [
    "# Strings:\n",
    "         - It can be represented within a ' or \" and can represent other datatype enclose with ' or \"\n",
    "         - It can be typecasted as str()\n",
    "         - It has index and slicing can be done\n",
    "         - It can be changes the character but it doesn't effect to original string"
   ]
  },
  {
   "cell_type": "code",
   "execution_count": 1,
   "id": "858eda5e",
   "metadata": {},
   "outputs": [
    {
     "name": "stdout",
     "output_type": "stream",
     "text": [
      "APSSDC Internship\n"
     ]
    }
   ],
   "source": [
    "n=\"APSSDC Internship\"\n",
    "print(n)"
   ]
  },
  {
   "cell_type": "code",
   "execution_count": null,
   "id": "29807eca",
   "metadata": {},
   "outputs": [],
   "source": [
    "range(a)\n",
    "range(a,b)\n",
    "range(a,b,c)\n",
    "inclusive range -> exact range\n",
    "exclusive range -> given index range"
   ]
  },
  {
   "cell_type": "code",
   "execution_count": 16,
   "id": "b38d1aaa",
   "metadata": {},
   "outputs": [
    {
     "name": "stdout",
     "output_type": "stream",
     "text": [
      "APSSDC Internship\n",
      "C\n",
      "h\n",
      "APSSDC Internship\n",
      "SDC Internship\n",
      "APSSDC Int\n",
      "C Inter\n",
      "PSSDC Inter\n",
      "terns\n",
      "ip\n",
      "e\n",
      "i\n",
      "ernsh\n"
     ]
    }
   ],
   "source": [
    "print(n)\n",
    "print(n[5])\n",
    "print(n[-3])\n",
    "print(n[:])\n",
    "print(n[3:])\n",
    "print(n[:10])\n",
    "print(n[5:12])\n",
    "print(n[1:-5])\n",
    "print(n[9:-3])\n",
    "print(n[-2:])\n",
    "print(n[-7:11])\n",
    "print(n[-2:-1])\n",
    "print(n[-7:-2])"
   ]
  },
  {
   "cell_type": "code",
   "execution_count": 34,
   "id": "7e661a0d",
   "metadata": {},
   "outputs": [
    {
     "name": "stdout",
     "output_type": "stream",
     "text": [
      "APSSDC Internship\n",
      "APSSDC Internship\n",
      "ASD nenhp\n",
      "phnen DSA\n",
      "Cnrh\n",
      "CS\n",
      "eIDP\n",
      " Int\n",
      "rns\n",
      "\n",
      "Inter\n",
      "DC Interns\n",
      "\n",
      "Cn\n",
      "CIt\n"
     ]
    }
   ],
   "source": [
    "print(n)\n",
    "print(n[::])\n",
    "print(n[::2])\n",
    "print(n[::-2])\n",
    "print(n[5::3])\n",
    "print(n[5::-3])\n",
    "print(n[10::-3])\n",
    "print(n[6:10:])\n",
    "print(n[-6:14:])\n",
    "print(n[-5:-10:])\n",
    "print(n[-10:-5])\n",
    "print(n[4:-3:])\n",
    "print(n[10:-7:])\n",
    "print(n[5:10:3])\n",
    "print(n[5:-7:2])"
   ]
  },
  {
   "cell_type": "code",
   "execution_count": 22,
   "id": "dd3ba1b1",
   "metadata": {},
   "outputs": [
    {
     "name": "stdout",
     "output_type": "stream",
     "text": [
      "2345678911234567890 <class 'str'>\n",
      "987654321198765432 <class 'int'>\n"
     ]
    }
   ],
   "source": [
    "m=str(2345678911234567890)\n",
    "print(m,type(m))\n",
    "k=int(m[::-1])\n",
    "print(k,type(k))"
   ]
  },
  {
   "cell_type": "code",
   "execution_count": 2,
   "id": "9ebe4f75",
   "metadata": {},
   "outputs": [
    {
     "name": "stdout",
     "output_type": "stream",
     "text": [
      "APSSDC Programs\n",
      "AP SSDC Progra ms\n"
     ]
    }
   ],
   "source": [
    "n=input()\n",
    "print(n[0:2]+\" \"+n[2:-2]+\" \"+n[-2:])"
   ]
  },
  {
   "cell_type": "code",
   "execution_count": 1,
   "id": "80847310",
   "metadata": {},
   "outputs": [
    {
     "name": "stdout",
     "output_type": "stream",
     "text": [
      "ms\n"
     ]
    }
   ],
   "source": [
    "m=\"APSSDC Programs\"\n",
    "print(m[-2:])"
   ]
  },
  {
   "cell_type": "code",
   "execution_count": 3,
   "id": "d7d08a25",
   "metadata": {},
   "outputs": [
    {
     "name": "stdout",
     "output_type": "stream",
     "text": [
      "['__add__', '__class__', '__contains__', '__delattr__', '__dir__', '__doc__', '__eq__', '__format__', '__ge__', '__getattribute__', '__getitem__', '__getnewargs__', '__gt__', '__hash__', '__init__', '__init_subclass__', '__iter__', '__le__', '__len__', '__lt__', '__mod__', '__mul__', '__ne__', '__new__', '__reduce__', '__reduce_ex__', '__repr__', '__rmod__', '__rmul__', '__setattr__', '__sizeof__', '__str__', '__subclasshook__', 'capitalize', 'casefold', 'center', 'count', 'encode', 'endswith', 'expandtabs', 'find', 'format', 'format_map', 'index', 'isalnum', 'isalpha', 'isascii', 'isdecimal', 'isdigit', 'isidentifier', 'islower', 'isnumeric', 'isprintable', 'isspace', 'istitle', 'isupper', 'join', 'ljust', 'lower', 'lstrip', 'maketrans', 'partition', 'removeprefix', 'removesuffix', 'replace', 'rfind', 'rindex', 'rjust', 'rpartition', 'rsplit', 'rstrip', 'split', 'splitlines', 'startswith', 'strip', 'swapcase', 'title', 'translate', 'upper', 'zfill']\n"
     ]
    }
   ],
   "source": [
    "print(dir(str))"
   ]
  },
  {
   "cell_type": "code",
   "execution_count": 10,
   "id": "684ace1c",
   "metadata": {},
   "outputs": [
    {
     "name": "stdout",
     "output_type": "stream",
     "text": [
      "Welcome to APPSDC Programs\n",
      "Welcome to appsdc programs\n",
      "welcome to appsdc programs\n",
      "Welcome To Appsdc Programs\n",
      "wELCOME TO appsdc pROGRAMS\n"
     ]
    }
   ],
   "source": [
    "b=\"Welcome to APPSDC Programs\"\n",
    "print(b)\n",
    "print(b.capitalize())\n",
    "print(b.casefold())\n",
    "print(b.title())\n",
    "print(b.swapcase())"
   ]
  },
  {
   "cell_type": "code",
   "execution_count": 15,
   "id": "a3fdb247",
   "metadata": {},
   "outputs": [
    {
     "name": "stdout",
     "output_type": "stream",
     "text": [
      "Welcome to APPSDC Programs\n",
      "WELCOME TO APPSDC PROGRAMS\n",
      "welcome to appsdc programs\n",
      "True\n",
      "True\n"
     ]
    }
   ],
   "source": [
    "print(b)\n",
    "print(b.upper())\n",
    "print(b.lower())\n",
    "print(b.startswith('W'))\n",
    "print(b.endswith('s'))"
   ]
  },
  {
   "cell_type": "code",
   "execution_count": 36,
   "id": "3051e8e1",
   "metadata": {},
   "outputs": [
    {
     "name": "stdout",
     "output_type": "stream",
     "text": [
      "Welcome to APPSDC Programs\n",
      "['Welcome', 'to', 'APPSDC', 'Programs']\n",
      "['W', 'lcom', ' to APPSDC Programs']\n",
      "['W', 'lcom', ' to APPSDC Programs']\n",
      "2\n",
      "1\n",
      "-1\n",
      "6\n",
      "-1\n",
      "12\n",
      "18\n"
     ]
    }
   ],
   "source": [
    "print(b)\n",
    "print(b.split())\n",
    "print(b.split('e'))\n",
    "print(b.rsplit('e'))\n",
    "print(b.count('e'))\n",
    "print(b.find('e'))\n",
    "print(b.find('z'))\n",
    "print(b.rfind('e'))\n",
    "print(b.rfind('z'))\n",
    "print(b.index('P'))\n",
    "print(b.rindex('P'))\n",
    "# print(b,index('p')) It will show error"
   ]
  },
  {
   "cell_type": "code",
   "execution_count": 21,
   "id": "22bed723",
   "metadata": {},
   "outputs": [
    {
     "name": "stdout",
     "output_type": "stream",
     "text": [
      "1 2 3 4 5 6 7 8 9\n",
      "['1 2 3 4 ', ' 6 7 8 9']\n"
     ]
    }
   ],
   "source": [
    "n=input().split('5')\n",
    "print(n)"
   ]
  },
  {
   "cell_type": "code",
   "execution_count": 46,
   "id": "1b14a1d4",
   "metadata": {},
   "outputs": [
    {
     "name": "stdout",
     "output_type": "stream",
     "text": [
      "        Sample\n",
      "Ramu Tarun        \n",
      "Sample\n",
      "Ramu Tarun\n",
      "Sample\n",
      "Ramu Tarun\n"
     ]
    }
   ],
   "source": [
    "d=\"        Sample\"\n",
    "e=\"Ramu Tarun        \"\n",
    "print(d)\n",
    "print(e)\n",
    "print(d.strip())\n",
    "print(e.strip())\n",
    "print(d.lstrip())\n",
    "print(e.rstrip())"
   ]
  },
  {
   "cell_type": "code",
   "execution_count": 48,
   "id": "c6f3b3ad",
   "metadata": {},
   "outputs": [
    {
     "name": "stdout",
     "output_type": "stream",
     "text": [
      "        Sample\n",
      "        Sample                                    \n",
      "Ramu Tarun                                        \n",
      "                                                                Sample\n",
      "                                                    Ramu Tarun        \n",
      "000000        Sample\n"
     ]
    }
   ],
   "source": [
    "print(d)\n",
    "print(d.ljust(50))\n",
    "print(e.ljust(50))\n",
    "print(d.rjust(70))\n",
    "print(e.rjust(70))\n",
    "print(d.zfill(20))"
   ]
  },
  {
   "cell_type": "code",
   "execution_count": 51,
   "id": "a6b9a8c8",
   "metadata": {},
   "outputs": [
    {
     "name": "stdout",
     "output_type": "stream",
     "text": [
      "APSSDC\n",
      "              APSSDC\n"
     ]
    }
   ],
   "source": [
    "z=\"APSSDC\"\n",
    "print(z)\n",
    "print(z.rjust(20))"
   ]
  },
  {
   "cell_type": "code",
   "execution_count": 52,
   "id": "f29b7cd8",
   "metadata": {},
   "outputs": [
    {
     "name": "stdout",
     "output_type": "stream",
     "text": [
      "APSSDC\n",
      "apssdc\n",
      "APSSDC\n"
     ]
    }
   ],
   "source": [
    "z=\"APSSDC\"\n",
    "p=z.lower()\n",
    "f=z.upper()\n",
    "print(z)\n",
    "print(p)\n",
    "print(f)"
   ]
  },
  {
   "cell_type": "code",
   "execution_count": 57,
   "id": "942fad54",
   "metadata": {},
   "outputs": [
    {
     "name": "stdout",
     "output_type": "stream",
     "text": [
      "        Sample\n",
      "        Samxle\n",
      "000000        Sample\n",
      "AAAAAA        Sample\n"
     ]
    }
   ],
   "source": [
    "print(d)\n",
    "print(d.replace('p','x'))\n",
    "g=d.zfill(20)\n",
    "print(g)\n",
    "print(g.replace('0','A'))"
   ]
  },
  {
   "cell_type": "code",
   "execution_count": 60,
   "id": "9c865cb4",
   "metadata": {},
   "outputs": [
    {
     "name": "stdout",
     "output_type": "stream",
     "text": [
      "R a m e s h\n",
      "Ramesh\n"
     ]
    }
   ],
   "source": [
    "k=\"Ramesh\"\n",
    "a=\" \".join(k)\n",
    "print(a)\n",
    "print(k)"
   ]
  },
  {
   "cell_type": "code",
   "execution_count": 61,
   "id": "c2220872",
   "metadata": {},
   "outputs": [
    {
     "name": "stdout",
     "output_type": "stream",
     "text": [
      "34-45-786\n",
      "['34', '45', '786']\n"
     ]
    }
   ],
   "source": [
    "t=[\"34\",\"45\",'786']\n",
    "g=\"-\".join(t)\n",
    "print(g)\n",
    "print(t)"
   ]
  },
  {
   "cell_type": "code",
   "execution_count": null,
   "id": "c2099cb4",
   "metadata": {},
   "outputs": [],
   "source": []
  },
  {
   "cell_type": "markdown",
   "id": "b4021442",
   "metadata": {},
   "source": [
    "# n=input().split('-')\n",
    "print(n)\n",
    "print(len(n[0]))\n"
   ]
  },
  {
   "cell_type": "markdown",
   "id": "d3ed45be",
   "metadata": {},
   "source": [
    " "
   ]
  },
  {
   "cell_type": "code",
   "execution_count": 2,
   "id": "d5764a68",
   "metadata": {},
   "outputs": [
    {
     "name": "stdout",
     "output_type": "stream",
     "text": [
      "12345678-karru-pace\n",
      "['12345678', 'karru', 'pace']\n",
      "8\n",
      "['pace']\n"
     ]
    },
    {
     "ename": "IndexError",
     "evalue": "list index out of range",
     "output_type": "error",
     "traceback": [
      "\u001b[1;31m---------------------------------------------------------------------------\u001b[0m",
      "\u001b[1;31mIndexError\u001b[0m                                Traceback (most recent call last)",
      "\u001b[1;32m<ipython-input-2-4ed73e05a4a4>\u001b[0m in \u001b[0;36m<module>\u001b[1;34m\u001b[0m\n\u001b[0;32m      4\u001b[0m \u001b[0mp\u001b[0m\u001b[1;33m=\u001b[0m\u001b[0mn\u001b[0m\u001b[1;33m[\u001b[0m\u001b[1;36m2\u001b[0m\u001b[1;33m]\u001b[0m\u001b[1;33m.\u001b[0m\u001b[0msplit\u001b[0m\u001b[1;33m(\u001b[0m\u001b[1;33m)\u001b[0m\u001b[1;33m\u001b[0m\u001b[1;33m\u001b[0m\u001b[0m\n\u001b[0;32m      5\u001b[0m \u001b[0mprint\u001b[0m\u001b[1;33m(\u001b[0m\u001b[0mp\u001b[0m\u001b[1;33m)\u001b[0m\u001b[1;33m\u001b[0m\u001b[1;33m\u001b[0m\u001b[0m\n\u001b[1;32m----> 6\u001b[1;33m \u001b[0mprint\u001b[0m\u001b[1;33m(\u001b[0m\u001b[0mp\u001b[0m\u001b[1;33m[\u001b[0m\u001b[1;36m1\u001b[0m\u001b[1;33m]\u001b[0m\u001b[1;33m)\u001b[0m\u001b[1;33m\u001b[0m\u001b[1;33m\u001b[0m\u001b[0m\n\u001b[0m",
      "\u001b[1;31mIndexError\u001b[0m: list index out of range"
     ]
    }
   ],
   "source": [
    "n=input().split(\"-\")\n",
    "print(n)\n",
    "print(len(n[0]))\n",
    "p=n[2].split()\n",
    "print(p)\n",
    "print(p[1])"
   ]
  },
  {
   "cell_type": "code",
   "execution_count": null,
   "id": "39b70f7b",
   "metadata": {},
   "outputs": [],
   "source": [
    "n=input().split(\"-\")\n",
    "p=n[2].split()\n",
    "print(n[1]+\" \"+p[1])"
   ]
  },
  {
   "cell_type": "code",
   "execution_count": 3,
   "id": "69465667",
   "metadata": {},
   "outputs": [
    {
     "name": "stdout",
     "output_type": "stream",
     "text": [
      "1 4 5 3 v F 7 7 & "
     ]
    }
   ],
   "source": [
    "k='1453vF77&'\n",
    "for i in k:\n",
    "    print(i,end=\" \")"
   ]
  },
  {
   "cell_type": "code",
   "execution_count": 4,
   "id": "b3673e94",
   "metadata": {},
   "outputs": [
    {
     "name": "stdout",
     "output_type": "stream",
     "text": [
      "False\n",
      "False\n"
     ]
    }
   ],
   "source": [
    "print(k.isalpha())\n",
    "print(k.isalnum())"
   ]
  },
  {
   "cell_type": "code",
   "execution_count": 6,
   "id": "830809e7",
   "metadata": {},
   "outputs": [
    {
     "name": "stdout",
     "output_type": "stream",
     "text": [
      "True\n",
      "True\n"
     ]
    }
   ],
   "source": [
    "u=\"123fti\"\n",
    "i=\"qwerty\"\n",
    "print(u.isalnum())\n",
    "print(i.isalpha())"
   ]
  },
  {
   "cell_type": "markdown",
   "id": "653105ca",
   "metadata": {},
   "source": [
    "     Input:145SYfg&*$#\n",
    "       output:\n",
    "       Given string is: 145SYfg&*$#\n",
    "       Alphabets in 145SYfg&*$# is : S Y f g\n",
    "       Numbers in 145SYfg&*$# is: 1 4 5\n",
    "       Special Chracters in 145SYfg&*$# is: & * $ #"
   ]
  },
  {
   "cell_type": "code",
   "execution_count": 1,
   "id": "180c7e56",
   "metadata": {},
   "outputs": [
    {
     "name": "stdout",
     "output_type": "stream",
     "text": [
      "145SYfg*$#\n",
      "numbers are: 1\n",
      "numbers are: 4\n",
      "numbers are: 5\n",
      "alphabets are: S\n",
      "alphabets are: Y\n",
      "alphabets are: f\n",
      "alphabets are: g\n",
      "special characters are: *\n",
      "special characters are: $\n",
      "special characters are: #\n"
     ]
    }
   ],
   "source": [
    "n=input()\n",
    "for i in n:\n",
    "    if i in \"0123456789\":\n",
    "        print(\"numbers are:\",i)\n",
    "    elif i.isalpha():\n",
    "        print(\"alphabets are:\",i)\n",
    "    elif i in \"@#$%^&*-+()\":\n",
    "        print(\"special characters are:\",i)\n",
    "    else:\n",
    "        print(\"no input is found\")"
   ]
  },
  {
   "cell_type": "code",
   "execution_count": null,
   "id": "c4f8a7c8",
   "metadata": {},
   "outputs": [],
   "source": []
  }
 ],
 "metadata": {
  "kernelspec": {
   "display_name": "Python 3",
   "language": "python",
   "name": "python3"
  },
  "language_info": {
   "codemirror_mode": {
    "name": "ipython",
    "version": 3
   },
   "file_extension": ".py",
   "mimetype": "text/x-python",
   "name": "python",
   "nbconvert_exporter": "python",
   "pygments_lexer": "ipython3",
   "version": "3.9.5"
  }
 },
 "nbformat": 4,
 "nbformat_minor": 5
}
